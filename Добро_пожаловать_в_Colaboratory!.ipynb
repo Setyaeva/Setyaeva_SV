{
  "cells": [
    {
      "cell_type": "markdown",
      "metadata": {
        "id": "view-in-github",
        "colab_type": "text"
      },
      "source": [
        "<a href=\"https://colab.research.google.com/github/Setyaeva/-.-MySQ/blob/master/%D0%94%D0%BE%D0%B1%D1%80%D0%BE_%D0%BF%D0%BE%D0%B6%D0%B0%D0%BB%D0%BE%D0%B2%D0%B0%D1%82%D1%8C_%D0%B2_Colaboratory!.ipynb\" target=\"_parent\"><img src=\"https://colab.research.google.com/assets/colab-badge.svg\" alt=\"Open In Colab\"/></a>"
      ]
    },
    {
      "cell_type": "markdown",
      "source": [
        "**Урок 7. Многомерный статистический анализ. Линейная регрессия**"
      ],
      "metadata": {
        "id": "jOMiFPYFkFXz"
      }
    },
    {
      "cell_type": "code",
      "source": [
        "import pandas as pd\n",
        "import numpy as np\n",
        "import matplotlib.pyplot as plt\n",
        "%matplotlib inline\n",
        "from scipy import stats"
      ],
      "metadata": {
        "id": "JPy6REHKk3fI"
      },
      "execution_count": 5,
      "outputs": []
    },
    {
      "cell_type": "markdown",
      "source": [
        "**Задача 1.**  *Даны значения величины заработной платы заемщиков банка (zp) и значения их поведенческого кредитного скоринга (ks): zp = [35, 45, 190, 200, 40, 70, 54, 150, 120, 110], ks = [401, 574, 874, 919, 459, 739, 653, 902, 746, 832]. Используя математические операции, посчитать коэффициенты линейной регрессии, приняв за X заработную плату (то есть, zp - признак), а за y - значения скорингового балла (то есть, ks - целевая переменная). Произвести расчет как с использованием intercept, так и без.*"
      ],
      "metadata": {
        "id": "jUxFb75lkZ6f"
      }
    },
    {
      "cell_type": "code",
      "source": [
        "x = np.array([35,45,190,200,40,70,54,150,120,110])\n",
        "x"
      ],
      "metadata": {
        "colab": {
          "base_uri": "https://localhost:8080/"
        },
        "id": "Kx1j7KaKk_mE",
        "outputId": "005c1060-58ea-4016-91e7-ad4e80d1c440"
      },
      "execution_count": 30,
      "outputs": [
        {
          "output_type": "execute_result",
          "data": {
            "text/plain": [
              "array([ 35,  45, 190, 200,  40,  70,  54, 150, 120, 110])"
            ]
          },
          "metadata": {},
          "execution_count": 30
        }
      ]
    },
    {
      "cell_type": "code",
      "source": [
        "y = np.array([401, 574, 874, 919, 459, 739, 653, 902, 746, 832])\n",
        "y"
      ],
      "metadata": {
        "colab": {
          "base_uri": "https://localhost:8080/"
        },
        "id": "5KS6mT5KlMOB",
        "outputId": "b2856777-9728-4037-9537-380667e3db78"
      },
      "execution_count": 31,
      "outputs": [
        {
          "output_type": "execute_result",
          "data": {
            "text/plain": [
              "array([401, 574, 874, 919, 459, 739, 653, 902, 746, 832])"
            ]
          },
          "metadata": {},
          "execution_count": 31
        }
      ]
    },
    {
      "cell_type": "code",
      "source": [
        "plt.scatter(x,y)"
      ],
      "metadata": {
        "colab": {
          "base_uri": "https://localhost:8080/",
          "height": 282
        },
        "id": "FNGWc_E6l1RM",
        "outputId": "8ad23022-af0b-48a2-8c27-0bdac42e28be"
      },
      "execution_count": 8,
      "outputs": [
        {
          "output_type": "execute_result",
          "data": {
            "text/plain": [
              "<matplotlib.collections.PathCollection at 0x7fa2ddc02650>"
            ]
          },
          "metadata": {},
          "execution_count": 8
        },
        {
          "output_type": "display_data",
          "data": {
            "text/plain": [
              "<Figure size 432x288 with 1 Axes>"
            ],
            "image/png": "[encoded data removed]"
          },
          "metadata": {
            "needs_background": "light"
          }
        }
      ]
    },
    {
      "cell_type": "code",
      "source": [
        "b= (np.mean(x*y)-np.mean(x)*np.mean(y))/(np.mean(x**2)-np.mean(x)**2)\n",
        "b"
      ],
      "metadata": {
        "colab": {
          "base_uri": "https://localhost:8080/"
        },
        "id": "GK7v3RsYozYT",
        "outputId": "4ca8718b-0348-4390-a46c-c5a7352da882"
      },
      "execution_count": 10,
      "outputs": [
        {
          "output_type": "execute_result",
          "data": {
            "text/plain": [
              "2.620538882402765"
            ]
          },
          "metadata": {},
          "execution_count": 10
        }
      ]
    },
    {
      "cell_type": "code",
      "source": [
        "a = np.mean(y)-b*np.mean(x)\n",
        "a"
      ],
      "metadata": {
        "colab": {
          "base_uri": "https://localhost:8080/"
        },
        "id": "bKM1isxcsics",
        "outputId": "0da42608-e9de-4f63-b49a-f45e4dfd6167"
      },
      "execution_count": 12,
      "outputs": [
        {
          "output_type": "execute_result",
          "data": {
            "text/plain": [
              "444.1773573243596"
            ]
          },
          "metadata": {},
          "execution_count": 12
        }
      ]
    },
    {
      "cell_type": "code",
      "source": [
        "#использованием intercept\n",
        "y_hat = a + b*x\n",
        "y_hat"
      ],
      "metadata": {
        "colab": {
          "base_uri": "https://localhost:8080/"
        },
        "id": "b2dTPho7tbpv",
        "outputId": "d73a78c1-4c85-4ea0-d169-160f0e55ce8d"
      },
      "execution_count": 17,
      "outputs": [
        {
          "output_type": "execute_result",
          "data": {
            "text/plain": [
              "array([535.89621821, 562.10160703, 942.07974498, 968.2851338 ,\n",
              "       548.99891262, 627.61507909, 585.68645697, 837.25818968,\n",
              "       758.64202321, 732.43663439])"
            ]
          },
          "metadata": {},
          "execution_count": 17
        }
      ]
    },
    {
      "cell_type": "code",
      "source": [
        "plt.scatter(x, y)\n",
        "plt.plot(x, y_hat)"
      ],
      "metadata": {
        "colab": {
          "base_uri": "https://localhost:8080/",
          "height": 282
        },
        "id": "3caEAi-iuMyZ",
        "outputId": "e8898ffa-365a-4721-db2f-a3741b1e167a"
      },
      "execution_count": 18,
      "outputs": [
        {
          "output_type": "execute_result",
          "data": {
            "text/plain": [
              "[<matplotlib.lines.Line2D at 0x7fa2dbb47dd0>]"
            ]
          },
          "metadata": {},
          "execution_count": 18
        },
        {
          "output_type": "display_data",
          "data": {
            "text/plain": [
              "<Figure size 432x288 with 1 Axes>"
            ],
            "image/png": "[encoded data removed]"
          },
          "metadata": {
            "needs_background": "light"
          }
        }
      ]
    },
    {
      "cell_type": "code",
      "source": [
        "mse_ = ((y-y_hat)**2).sum()/10\n",
        "mse_"
      ],
      "metadata": {
        "colab": {
          "base_uri": "https://localhost:8080/"
        },
        "id": "sqlB4ZyOv31H",
        "outputId": "65822ebf-366f-493c-b8f9-d2f0e6149abb"
      },
      "execution_count": 20,
      "outputs": [
        {
          "output_type": "execute_result",
          "data": {
            "text/plain": [
              "6470.414201176658"
            ]
          },
          "metadata": {},
          "execution_count": 20
        }
      ]
    },
    {
      "cell_type": "code",
      "source": [
        "# без intercept"
      ],
      "metadata": {
        "id": "W8ygK0Xixspv"
      },
      "execution_count": 22,
      "outputs": []
    },
    {
      "cell_type": "code",
      "source": [
        "x1 = x.reshape(1, len(x))\n",
        "x1"
      ],
      "metadata": {
        "colab": {
          "base_uri": "https://localhost:8080/"
        },
        "id": "v1Fv0Qtyx3gT",
        "outputId": "7eccd0cb-770e-4b4e-b8fe-1283b2c879bc"
      },
      "execution_count": 32,
      "outputs": [
        {
          "output_type": "execute_result",
          "data": {
            "text/plain": [
              "array([[ 35,  45, 190, 200,  40,  70,  54, 150, 120, 110]])"
            ]
          },
          "metadata": {},
          "execution_count": 32
        }
      ]
    },
    {
      "cell_type": "code",
      "source": [
        "y1 = y.reshape(1, len(y))\n",
        "y1"
      ],
      "metadata": {
        "colab": {
          "base_uri": "https://localhost:8080/"
        },
        "id": "Fjllln0pyhp2",
        "outputId": "e14e3349-5e37-4749-e675-9bc88116a074"
      },
      "execution_count": 33,
      "outputs": [
        {
          "output_type": "execute_result",
          "data": {
            "text/plain": [
              "array([[401, 574, 874, 919, 459, 739, 653, 902, 746, 832]])"
            ]
          },
          "metadata": {},
          "execution_count": 33
        }
      ]
    },
    {
      "cell_type": "code",
      "source": [
        "b1 = np.dot(np.dot(np.linalg.inv(np.dot(x1, x1.T)), x1), y1.T)\n",
        "b1"
      ],
      "metadata": {
        "colab": {
          "base_uri": "https://localhost:8080/"
        },
        "id": "X5RgGNxXzEKf",
        "outputId": "bddb2a79-a034-411a-82c2-3b136e0808c4"
      },
      "execution_count": 35,
      "outputs": [
        {
          "output_type": "execute_result",
          "data": {
            "text/plain": [
              "array([[5.88982042]])"
            ]
          },
          "metadata": {},
          "execution_count": 35
        }
      ]
    },
    {
      "cell_type": "code",
      "source": [
        "y_hat1 = b1*x1\n",
        "y_hat1"
      ],
      "metadata": {
        "colab": {
          "base_uri": "https://localhost:8080/"
        },
        "id": "AsirVyp0zSiJ",
        "outputId": "f3cdbd7f-4e03-40ae-a1d9-14f296550533"
      },
      "execution_count": 36,
      "outputs": [
        {
          "output_type": "execute_result",
          "data": {
            "text/plain": [
              "array([[ 206.1437147 ,  265.04191891, 1119.06587983, 1177.96408403,\n",
              "         235.59281681,  412.28742941,  318.05030269,  883.47306302,\n",
              "         706.77845042,  647.88024621]])"
            ]
          },
          "metadata": {},
          "execution_count": 36
        }
      ]
    },
    {
      "cell_type": "code",
      "source": [
        "mse_ = np.sum(((0 + b1 * x) - y) ** 2 / 10)\n",
        "mse_"
      ],
      "metadata": {
        "colab": {
          "base_uri": "https://localhost:8080/"
        },
        "id": "ZvU-dHSx1w_4",
        "outputId": "76c84a12-fc50-44cb-883d-db925c5171fd"
      },
      "execution_count": 38,
      "outputs": [
        {
          "output_type": "execute_result",
          "data": {
            "text/plain": [
              "56516.85841571943"
            ]
          },
          "metadata": {},
          "execution_count": 38
        }
      ]
    },
    {
      "cell_type": "markdown",
      "source": [
        "**Задача 2.**  *Посчитать коэффициент линейной регрессии при заработной плате (zp), используя градиентный спуск (без intercept).*"
      ],
      "metadata": {
        "id": "T-gURcVyvaIE"
      }
    },
    {
      "cell_type": "code",
      "source": [
        "x = np.array([35,45,190,200,40,70,54,150,120,110])\n",
        "x"
      ],
      "metadata": {
        "colab": {
          "base_uri": "https://localhost:8080/"
        },
        "id": "CvK7z85O2U6I",
        "outputId": "1d24ce42-6aec-4aa5-c7a1-ab663b5fbde4"
      },
      "execution_count": 39,
      "outputs": [
        {
          "output_type": "execute_result",
          "data": {
            "text/plain": [
              "array([ 35,  45, 190, 200,  40,  70,  54, 150, 120, 110])"
            ]
          },
          "metadata": {},
          "execution_count": 39
        }
      ]
    },
    {
      "cell_type": "code",
      "source": [
        "y = np.array([401, 574, 874, 919, 459, 739, 653, 902, 746, 832])\n",
        "y"
      ],
      "metadata": {
        "colab": {
          "base_uri": "https://localhost:8080/"
        },
        "id": "b9-E-DqN2urx",
        "outputId": "445d4a3a-d8d5-4244-de20-326933c0c80f"
      },
      "execution_count": 40,
      "outputs": [
        {
          "output_type": "execute_result",
          "data": {
            "text/plain": [
              "array([401, 574, 874, 919, 459, 739, 653, 902, 746, 832])"
            ]
          },
          "metadata": {},
          "execution_count": 40
        }
      ]
    },
    {
      "cell_type": "code",
      "source": [
        "alpha = 1e-6"
      ],
      "metadata": {
        "id": "oxvq0LjI3EO3"
      },
      "execution_count": 41,
      "outputs": []
    },
    {
      "cell_type": "code",
      "source": [
        "w1 = 0.1"
      ],
      "metadata": {
        "id": "jFC-4Wpk3Q6-"
      },
      "execution_count": 42,
      "outputs": []
    },
    {
      "cell_type": "code",
      "source": [
        "n=10"
      ],
      "metadata": {
        "id": "EPcBt-KH4uU1"
      },
      "execution_count": 46,
      "outputs": []
    },
    {
      "cell_type": "code",
      "source": [
        "for i in range (10):\n",
        "  w1 -=alpha*(2/n)*np.sum((w1*x-y)*x)\n",
        "  print('w1={}'.format(w1))"
      ],
      "metadata": {
        "colab": {
          "base_uri": "https://localhost:8080/"
        },
        "id": "VsZviE4u3Wxo",
        "outputId": "93f950da-71b3-4964-dbb6-98648e2fa7c7"
      },
      "execution_count": 48,
      "outputs": [
        {
          "output_type": "stream",
          "name": "stdout",
          "text": [
            "w1=0.414660650906144\n",
            "w1=0.5655188230595969\n",
            "w1=0.7122203698240712\n",
            "w1=0.8548798195302346\n",
            "w1=0.9936085448867542\n",
            "w1=1.1285148499277806\n",
            "w1=1.2597040545647504\n",
            "w1=1.387278576808517\n",
            "w1=1.5113380127259965\n",
            "w1=1.6319792141937546\n"
          ]
        }
      ]
    },
    {
      "cell_type": "code",
      "source": [
        "for i in range(1000):\n",
        "    fp = (1 / 10) * np.sum(2 * (w1 * x - y) * x)\n",
        "    w1 -= alpha * fp\n",
        "    if i % 100 == 0:\n",
        "        print('iteration: {i}, w1 : {w1}, mse: {mse_(w1) }')"
      ],
      "metadata": {
        "colab": {
          "base_uri": "https://localhost:8080/"
        },
        "id": "iSR215ud5RkG",
        "outputId": "29beec3d-09df-4ec5-a172-68971985440f"
      },
      "execution_count": 51,
      "outputs": [
        {
          "output_type": "stream",
          "name": "stdout",
          "text": [
            "iteration: {i}, w1 : {w1}, mse: {mse_(w1) }\n",
            "iteration: {i}, w1 : {w1}, mse: {mse_(w1) }\n",
            "iteration: {i}, w1 : {w1}, mse: {mse_(w1) }\n",
            "iteration: {i}, w1 : {w1}, mse: {mse_(w1) }\n",
            "iteration: {i}, w1 : {w1}, mse: {mse_(w1) }\n",
            "iteration: {i}, w1 : {w1}, mse: {mse_(w1) }\n",
            "iteration: {i}, w1 : {w1}, mse: {mse_(w1) }\n",
            "iteration: {i}, w1 : {w1}, mse: {mse_(w1) }\n",
            "iteration: {i}, w1 : {w1}, mse: {mse_(w1) }\n",
            "iteration: {i}, w1 : {w1}, mse: {mse_(w1) }\n"
          ]
        }
      ]
    }
  ],
  "metadata": {
    "colab": {
      "collapsed_sections": [],
      "name": "Добро пожаловать в Colaboratory!",
      "provenance": [],
      "include_colab_link": true
    },
    "kernelspec": {
      "display_name": "Python 3",
      "name": "python3"
    }
  },
  "nbformat": 4,
  "nbformat_minor": 0
}