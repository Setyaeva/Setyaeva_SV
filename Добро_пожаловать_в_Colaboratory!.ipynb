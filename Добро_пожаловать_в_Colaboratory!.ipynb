{
  "cells": [
    {
      "cell_type": "markdown",
      "metadata": {
        "id": "view-in-github",
        "colab_type": "text"
      },
      "source": [
        "<a href=\"https://colab.research.google.com/github/Setyaeva/-.-MySQ/blob/master/%D0%94%D0%BE%D0%B1%D1%80%D0%BE_%D0%BF%D0%BE%D0%B6%D0%B0%D0%BB%D0%BE%D0%B2%D0%B0%D1%82%D1%8C_%D0%B2_Colaboratory!.ipynb\" target=\"_parent\"><img src=\"https://colab.research.google.com/assets/colab-badge.svg\" alt=\"Open In Colab\"/></a>"
      ]
    },
    {
      "cell_type": "markdown",
      "source": [
        "**Часть 1.**\n"
      ],
      "metadata": {
        "id": "sadDbTZXZEdC"
      }
    },
    {
      "cell_type": "markdown",
      "source": [
        "**Задание 1.**"
      ],
      "metadata": {
        "id": "3yRq8ouZbWG7"
      }
    },
    {
      "cell_type": "markdown",
      "source": [
        "Исследовать на линейную зависимость: f1(x)=e^{x}, f2(x)=1, f3(x)=x+1, f4(x)=x-e^{x}."
      ],
      "metadata": {
        "id": "jOb4w4QfZRGu"
      }
    },
    {
      "cell_type": "markdown",
      "source": [
        "*Ответ:* x-e^x=-(e^x)-(1)+(x+1), т.е. f_{4}(x)=-f_{1}(x)-f_{2}(x)+f_{3}(x), поскольку мы можем выразить один вектор, через линейную комбинацию остальных, данные векторы линейно зависимы."
      ],
      "metadata": {
        "id": "QxR8CrrCbZ1q"
      }
    },
    {
      "cell_type": "markdown",
      "source": [
        "**Задание 2.**"
      ],
      "metadata": {
        "id": "1G7IPh-Nbqi_"
      }
    },
    {
      "cell_type": "markdown",
      "source": [
        "Исследовать на линейную зависимость: f1(x)=2, f2(x)=x, f3(x)=x^{2}, f4(x)=(x+1)^{2}"
      ],
      "metadata": {
        "id": "5PXjLHeobwvg"
      }
    },
    {
      "cell_type": "markdown",
      "source": [
        "*Ответ:* Вектор $f_{4}(x)=(x+1)^2$  можем представить как: $f_{4}(x)=(x+1)^2=x^2+2, поскольку мы можем выразить один вектор, через линейную комбинацию остальных, данные векторы линейно зависимы."
      ],
      "metadata": {
        "id": "7n3gX9Lcfqjk"
      }
    },
    {
      "cell_type": "markdown",
      "source": [
        "**Задание 3.**"
      ],
      "metadata": {
        "id": "tYXFLMc1iSUU"
      }
    },
    {
      "cell_type": "markdown",
      "source": [
        "Найти координаты вектора x = (2, 3, 5)в базисе b1=(0, 0, 10), b2=(2, 0, 0), b3=(0, 1, 0)"
      ],
      "metadata": {
        "id": "FvJVHf7FifqI"
      }
    },
    {
      "cell_type": "markdown",
      "source": [
        "x = 0.5b1 + b2 + 3b3  "
      ],
      "metadata": {
        "id": "732d6djhCJEt"
      }
    },
    {
      "cell_type": "markdown",
      "source": [
        "*Ответ:* координаты (0.5, 1, 3)"
      ],
      "metadata": {
        "id": "5d5UukPoDRED"
      }
    },
    {
      "cell_type": "markdown",
      "source": [
        "**Задание 4.**"
      ],
      "metadata": {
        "id": "AFB8gNHCDjx4"
      }
    },
    {
      "cell_type": "markdown",
      "source": [
        "Найти координаты вектора 3x^{2}-2x+2\n",
        "\n",
        "1.  в базисе x^{2}, x-1, 1\n",
        "2.  в базисе x^{2}, x-1, 1\n",
        "\n"
      ],
      "metadata": {
        "id": "Iw-hv7UQDnqt"
      }
    },
    {
      "cell_type": "markdown",
      "source": [
        "**Задание 5.**"
      ],
      "metadata": {
        "id": "FoGpo6JMGaJi"
      }
    },
    {
      "cell_type": "markdown",
      "source": [
        "Установить, является ли линейным подпространством:  \n",
        "\n",
        "1.  совокупность всех векторов трехмерного пространства, у которых по крайней мере одна из первых двух координат равна нулю;\n",
        "    \n",
        "2.  все векторы, являющиеся линейными комбинациями данных векторов\n",
        "\n"
      ],
      "metadata": {
        "id": "JrL_xlGhGgLg"
      }
    },
    {
      "cell_type": "markdown",
      "source": [
        "1.)Является линейным подпространством. Проверим на векторах:(a, 0, b) и (0, c, d).  Их сумма равна (a, c, b+d)."
      ],
      "metadata": {
        "id": "oec53zExG2ls"
      }
    },
    {
      "cell_type": "markdown",
      "source": [
        "2) Также является линейным подпространством."
      ],
      "metadata": {
        "id": "BH-hmEEZIH6R"
      }
    },
    {
      "cell_type": "markdown",
      "source": [
        "**Часть 2.**"
      ],
      "metadata": {
        "id": "SZU_hg6aISG4"
      }
    },
    {
      "cell_type": "markdown",
      "source": [
        "**Задание 1.**"
      ],
      "metadata": {
        "id": "Au1ROFBkIV5Y"
      }
    },
    {
      "cell_type": "markdown",
      "source": [
        "Найти скалярное произведение векторов x, y\n",
        "\n",
        "1.   x=(0,-3, 6), y=(-4, 7, 9)\n",
        "2.   x=(7, -4, 0, 1), y=(-3, 1, 11, 2)\n",
        "\n"
      ],
      "metadata": {
        "id": "2iiQ_bxmIjsZ"
      }
    },
    {
      "cell_type": "markdown",
      "source": [
        "1)"
      ],
      "metadata": {
        "id": "7r42YIx-MEUT"
      }
    },
    {
      "cell_type": "code",
      "source": [
        "import numpy as np"
      ],
      "metadata": {
        "id": "vAqndq-gJlME"
      },
      "execution_count": 5,
      "outputs": []
    },
    {
      "cell_type": "code",
      "source": [
        "x = np.array ([0,-3, 6])\n",
        "y = np.array([-4, 7, 9])\n",
        "x,y"
      ],
      "metadata": {
        "colab": {
          "base_uri": "https://localhost:8080/"
        },
        "id": "_I9BF8-6JwpI",
        "outputId": "6cd633b2-78aa-46a0-dc14-c41acc3fd8cb"
      },
      "execution_count": 3,
      "outputs": [
        {
          "output_type": "execute_result",
          "data": {
            "text/plain": [
              "(array([ 0, -3,  6]), array([-4,  7,  9]))"
            ]
          },
          "metadata": {},
          "execution_count": 3
        }
      ]
    },
    {
      "cell_type": "code",
      "source": [
        "z=np.dot(x,y)\n",
        "z"
      ],
      "metadata": {
        "colab": {
          "base_uri": "https://localhost:8080/"
        },
        "id": "VumwTD4YKTlL",
        "outputId": "16d48623-fd13-4c52-a778-820e91dfc471"
      },
      "execution_count": 8,
      "outputs": [
        {
          "output_type": "execute_result",
          "data": {
            "text/plain": [
              "33"
            ]
          },
          "metadata": {},
          "execution_count": 8
        }
      ]
    },
    {
      "cell_type": "markdown",
      "source": [
        "2)"
      ],
      "metadata": {
        "id": "5goR-eZAMHW0"
      }
    },
    {
      "cell_type": "code",
      "source": [
        "x = np.array ([7, -4, 0, 1])\n",
        "y = np.array([-3, 1, 11, 2])\n",
        "x,y"
      ],
      "metadata": {
        "colab": {
          "base_uri": "https://localhost:8080/"
        },
        "id": "f_Pc_ajXMJjK",
        "outputId": "d2a08f4e-d07b-4a7e-e491-4a65ecfbb859"
      },
      "execution_count": 9,
      "outputs": [
        {
          "output_type": "execute_result",
          "data": {
            "text/plain": [
              "(array([ 7, -4,  0,  1]), array([-3,  1, 11,  2]))"
            ]
          },
          "metadata": {},
          "execution_count": 9
        }
      ]
    },
    {
      "cell_type": "code",
      "source": [
        "z=np.dot(x,y)\n",
        "z"
      ],
      "metadata": {
        "colab": {
          "base_uri": "https://localhost:8080/"
        },
        "id": "sDBKC4yeMOkn",
        "outputId": "986b1552-1ae1-4123-e36c-3ba064035534"
      },
      "execution_count": 10,
      "outputs": [
        {
          "output_type": "execute_result",
          "data": {
            "text/plain": [
              "-23"
            ]
          },
          "metadata": {},
          "execution_count": 10
        }
      ]
    },
    {
      "cell_type": "markdown",
      "source": [
        "**Задача 2.**"
      ],
      "metadata": {
        "id": "c7fUJiYAMtay"
      }
    },
    {
      "cell_type": "markdown",
      "source": [
        "Найти нормы векторов (4, 2, 4) и (12, 3, 4) и угол между ними."
      ],
      "metadata": {
        "id": "VyPWzFvVMydu"
      }
    },
    {
      "cell_type": "code",
      "source": [
        "from numpy.linalg import norm"
      ],
      "metadata": {
        "id": "DmE06OFsOiGf"
      },
      "execution_count": 2,
      "outputs": []
    },
    {
      "cell_type": "code",
      "source": [
        "a = np.array ([4, 2, 4])\n",
        "b = np.array ([12, 3, 4])\n",
        "a,b"
      ],
      "metadata": {
        "colab": {
          "base_uri": "https://localhost:8080/"
        },
        "id": "WLBsv8V5POX5",
        "outputId": "9eb51f11-7f24-4420-f195-de803fa7f364"
      },
      "execution_count": 6,
      "outputs": [
        {
          "output_type": "execute_result",
          "data": {
            "text/plain": [
              "(array([4, 2, 4]), array([12,  3,  4]))"
            ]
          },
          "metadata": {},
          "execution_count": 6
        }
      ]
    },
    {
      "cell_type": "code",
      "source": [
        "print (f'Для вектора а =(4,2,4) манхеттенская норма: {norm(a,ord=1)}, евклидова норма: {norm(a, ord=2)}\\n',\n",
        "f'Для вектора b=(12,3,4) манхеттенская норма: {norm(b, ord=1)}, евклидова норма:{norm(b, ord=2)}\\n', \n",
        "f'Угол между векторами a=(4,2,4) и b=(12,3,4): {np.arccos(np.dot(a, b)/(norm(a)*norm(b))):.2f}')"
      ],
      "metadata": {
        "colab": {
          "base_uri": "https://localhost:8080/"
        },
        "id": "iGke03xsP-fH",
        "outputId": "0f2bb9ea-cea6-413c-c1f0-de96cd7b52a7"
      },
      "execution_count": 13,
      "outputs": [
        {
          "output_type": "stream",
          "name": "stdout",
          "text": [
            "Для вектора а =(4,2,4) манхеттенская норма: 10.0, евклидова норма: 6.0\n",
            " Для вектора b=(12,3,4) манхеттенская норма: 19.0, евклидова норма:13.0\n",
            " Угол между векторами a=(4,2,4) и b=(12,3,4): 0.46\n"
          ]
        }
      ]
    }
  ],
  "metadata": {
    "colab": {
      "name": "Добро пожаловать в Colaboratory!",
      "provenance": [],
      "include_colab_link": true
    },
    "kernelspec": {
      "display_name": "Python 3",
      "name": "python3"
    }
  },
  "nbformat": 4,
  "nbformat_minor": 0
}