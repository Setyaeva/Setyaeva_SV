{
  "nbformat": 4,
  "nbformat_minor": 0,
  "metadata": {
    "colab": {
      "provenance": [],
      "authorship_tag": "ABX9TyN8qVt8/nJCCPw8+x/Uk+3N",
      "include_colab_link": true
    },
    "kernelspec": {
      "name": "python3",
      "display_name": "Python 3"
    },
    "language_info": {
      "name": "python"
    }
  },
  "cells": [
    {
      "cell_type": "markdown",
      "metadata": {
        "id": "view-in-github",
        "colab_type": "text"
      },
      "source": [
        "<a href=\"https://colab.research.google.com/github/Setyaeva/-.-MySQ/blob/master/lin_al__DZ5.ipynb\" target=\"_parent\"><img src=\"https://colab.research.google.com/assets/colab-badge.svg\" alt=\"Open In Colab\"/></a>"
      ]
    },
    {
      "cell_type": "markdown",
      "source": [
        "1. **Найти с помощью NumPy SVD для заданной матрицы**"
      ],
      "metadata": {
        "id": "-T_Hv-mxxwUg"
      }
    },
    {
      "cell_type": "code",
      "execution_count": 1,
      "metadata": {
        "id": "XOeV_P5Cxmdx"
      },
      "outputs": [],
      "source": [
        "import numpy as np\n",
        "np.set_printoptions(precision=2, suppress=True)"
      ]
    },
    {
      "cell_type": "code",
      "source": [
        "X=np.array([[1,2,0],[0,0,5],[3,-4,2],[1,6,5],[0,1,0]])\n",
        "print(f'Матрица X:\\n{X}')"
      ],
      "metadata": {
        "colab": {
          "base_uri": "https://localhost:8080/"
        },
        "id": "yQTF2QE0yrXY",
        "outputId": "406d0faa-eba2-4128-f45d-63e201e4f9af"
      },
      "execution_count": 6,
      "outputs": [
        {
          "output_type": "stream",
          "name": "stdout",
          "text": [
            "Матрица X:\n",
            "[[ 1  2  0]\n",
            " [ 0  0  5]\n",
            " [ 3 -4  2]\n",
            " [ 1  6  5]\n",
            " [ 0  1  0]]\n"
          ]
        }
      ]
    },
    {
      "cell_type": "code",
      "source": [
        "Y, Z, W = np.linalg.svd(X)"
      ],
      "metadata": {
        "id": "Kl_kOES0y6PD"
      },
      "execution_count": 7,
      "outputs": []
    },
    {
      "cell_type": "code",
      "source": [
        "D = np.zeros_like(X, dtype=float)\n",
        "D[np.diag_indices(min(X.shape))] = Z"
      ],
      "metadata": {
        "id": "qi2Dn0EgzPWp"
      },
      "execution_count": 8,
      "outputs": []
    },
    {
      "cell_type": "code",
      "source": [
        "print(f'Матрица Y:\\n{Y}')\n",
        "print(f'Матрица D:\\n{D}')\n",
        "print(f'Матрица V:\\n{W.T}')"
      ],
      "metadata": {
        "colab": {
          "base_uri": "https://localhost:8080/"
        },
        "id": "TuCcvmGkzXZY",
        "outputId": "5e627538-4254-4acf-9173-8afb252bdac3"
      },
      "execution_count": 9,
      "outputs": [
        {
          "output_type": "stream",
          "name": "stdout",
          "text": [
            "Матрица Y:\n",
            "[[ 0.17  0.16 -0.53 -0.8  -0.16]\n",
            " [ 0.39 -0.53  0.61 -0.43  0.03]\n",
            " [-0.14 -0.82 -0.52  0.14  0.07]\n",
            " [ 0.89  0.06 -0.25  0.38 -0.06]\n",
            " [ 0.08  0.11 -0.08 -0.11  0.98]]\n",
            "Матрица D:\n",
            "[[8.82 0.   0.  ]\n",
            " [0.   6.14 0.  ]\n",
            " [0.   0.   2.53]\n",
            " [0.   0.   0.  ]\n",
            " [0.   0.   0.  ]]\n",
            "Матрица V:\n",
            "[[ 0.07 -0.37 -0.93]\n",
            " [ 0.72  0.67 -0.21]\n",
            " [ 0.69 -0.65  0.31]]\n"
          ]
        }
      ]
    },
    {
      "cell_type": "markdown",
      "source": [
        "2. **Для матрицы из предыдущего задания найти:**\n",
        "\n",
        "а) евклидову норму;\n",
        "\n",
        "б) норму Фробениуса."
      ],
      "metadata": {
        "id": "kssELFK-0EIm"
      }
    },
    {
      "cell_type": "code",
      "source": [
        "# Евклидова норма\n",
        "\n",
        "s1=np.linalg.norm(X, ord=2)\n",
        "print(f\"Евклидова норма для матрицы X:\\n{s1}\")"
      ],
      "metadata": {
        "colab": {
          "base_uri": "https://localhost:8080/"
        },
        "id": "sSa9EcV20gaZ",
        "outputId": "9f80645b-ef61-4252-c717-4fe28bcb2520"
      },
      "execution_count": 15,
      "outputs": [
        {
          "output_type": "stream",
          "name": "stdout",
          "text": [
            "Евклидова норма для матрицы X:\n",
            "8.824868854820444\n"
          ]
        }
      ]
    },
    {
      "cell_type": "code",
      "source": [
        "# Норма Фробениуса\n",
        "\n",
        "s2=np.linalg.norm(X, ord='fro')\n",
        "\n",
        "print(f\"Норма фробениуса для матрицы X:\\n{s2}\")"
      ],
      "metadata": {
        "colab": {
          "base_uri": "https://localhost:8080/"
        },
        "id": "JfwBIm2806QH",
        "outputId": "eca331b3-bc6c-49f9-ab3d-220a9e7fcd9a"
      },
      "execution_count": 17,
      "outputs": [
        {
          "output_type": "stream",
          "name": "stdout",
          "text": [
            "Норма фробениуса для матрицы X:\n",
            "11.045361017187261\n"
          ]
        }
      ]
    }
  ]
}