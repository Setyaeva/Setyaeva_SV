{
  "cells": [
    {
      "cell_type": "markdown",
      "source": [
        "**Домашняя работа 3.**"
      ],
      "metadata": {
        "id": "uzhPJjD1781W"
      }
    },
    {
      "cell_type": "markdown",
      "source": [
        "**Задача 1.** Найти собственные векторы и собственные значения для линейного оператора, заданного матрицей A = (1- -6 2 6)"
      ],
      "metadata": {
        "id": "VVolTGAb8A-i"
      }
    },
    {
      "cell_type": "code",
      "source": [
        "import numpy as np\n",
        "import numpy.linalg"
      ],
      "metadata": {
        "id": "9nxRv4nA8Z04"
      },
      "execution_count": 5,
      "outputs": []
    },
    {
      "cell_type": "code",
      "source": [
        "A=np.array([[-1,-6],[2,6]])\n",
        "g, h = np.linalg.eig(A)\n",
        "print(f'Собственные значения:\\n{g}')\n",
        "print(f'Собственные векторы:\\n{h}')"
      ],
      "metadata": {
        "colab": {
          "base_uri": "https://localhost:8080/"
        },
        "id": "NxVpSG9v8lDd",
        "outputId": "c9eff00f-8c59-40e0-9b75-df3ba20437ce"
      },
      "execution_count": 6,
      "outputs": [
        {
          "output_type": "stream",
          "name": "stdout",
          "text": [
            "Собственные значения:\n",
            "[2. 3.]\n",
            "Собственные векторы:\n",
            "[[-0.89442719  0.83205029]\n",
            " [ 0.4472136  -0.5547002 ]]\n"
          ]
        }
      ]
    },
    {
      "cell_type": "markdown",
      "source": [
        "**Задача 2.** Дан оператор поворота на 180 градусов, задаваемый матрицей А = (-1 0 0 -1)."
      ],
      "metadata": {
        "id": "TmJmPqMW8tKX"
      }
    },
    {
      "cell_type": "code",
      "source": [
        "A=np.array([[-1,0],[0,-1]])\n",
        "g, h = np.linalg.eig(A)\n",
        "print(f'Собственные значения:\\n{g}')\n",
        "print(f'Собственные векторы:\\n{h}')"
      ],
      "metadata": {
        "colab": {
          "base_uri": "https://localhost:8080/"
        },
        "id": "ctgUXZjc8_no",
        "outputId": "3bcac5f2-6ee6-4f6c-e070-c48b2bf6f24e"
      },
      "execution_count": 7,
      "outputs": [
        {
          "output_type": "stream",
          "name": "stdout",
          "text": [
            "Собственные значения:\n",
            "[-1. -1.]\n",
            "Собственные векторы:\n",
            "[[1. 0.]\n",
            " [0. 1.]]\n"
          ]
        }
      ]
    },
    {
      "cell_type": "markdown",
      "source": [
        "**Задача 3.** Разбор приложен в комментариях к д/з.\n",
        "  Ответ: Вектор x(1,1) является собственным вектором с собственным значением  = 2."
      ],
      "metadata": {
        "id": "n9npK02B9OVo"
      }
    },
    {
      "cell_type": "markdown",
      "source": [
        "**Задача 4.** Разбор приложен в комментариях к д/з.\n",
        "  Ответ: Вектор x(3, -3, -4) не является собственным вектором."
      ],
      "metadata": {
        "id": "D0oL3-2D91wY"
      }
    }
  ],
  "metadata": {
    "colab": {
      "name": "Добро пожаловать в Colaboratory!",
      "toc_visible": true,
      "provenance": []
    },
    "kernelspec": {
      "display_name": "Python 3",
      "name": "python3"
    }
  },
  "nbformat": 4,
  "nbformat_minor": 0
}