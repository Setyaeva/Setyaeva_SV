{
  "nbformat": 4,
  "nbformat_minor": 0,
  "metadata": {
    "colab": {
      "provenance": [],
      "authorship_tag": "ABX9TyO2Q/s7Oe0ytKtTNUnGuiX3"
    },
    "kernelspec": {
      "name": "python3",
      "display_name": "Python 3"
    },
    "language_info": {
      "name": "python"
    }
  },
  "cells": [
    {
      "cell_type": "code",
      "source": [
        "!pip install dill"
      ],
      "metadata": {
        "colab": {
          "base_uri": "https://localhost:8080/"
        },
        "id": "3NthQo3qecvD",
        "outputId": "25e14070-de50-472d-a914-0a709de267ed"
      },
      "execution_count": 1,
      "outputs": [
        {
          "output_type": "stream",
          "name": "stdout",
          "text": [
            "Looking in indexes: https://pypi.org/simple, https://us-python.pkg.dev/colab-wheels/public/simple/\n",
            "Collecting dill\n",
            "  Downloading dill-0.3.6-py3-none-any.whl (110 kB)\n",
            "\u001b[?25l     \u001b[90m━━━━━━━━━━━━━━━━━━━━━━━━━━━━━━━━━━━━━━━━\u001b[0m \u001b[32m0.0/110.5 kB\u001b[0m \u001b[31m?\u001b[0m eta \u001b[36m-:--:--\u001b[0m\r\u001b[2K     \u001b[90m━━━━━━━━━━━━━━━━━━━━━━━━━━━━━━━━━━━━━━━\u001b[0m \u001b[32m110.5/110.5 kB\u001b[0m \u001b[31m4.0 MB/s\u001b[0m eta \u001b[36m0:00:00\u001b[0m\n",
            "\u001b[?25hInstalling collected packages: dill\n",
            "Successfully installed dill-0.3.6\n"
          ]
        }
      ]
    },
    {
      "cell_type": "code",
      "execution_count": 2,
      "metadata": {
        "id": "vqJ4_1VuI3aJ"
      },
      "outputs": [],
      "source": [
        "import numpy as np\n",
        "import pandas as pd\n",
        "import dill\n",
        "import random\n",
        "\n",
        "from sklearn.base import BaseEstimator, TransformerMixin\n",
        "from sklearn.model_selection import train_test_split, cross_val_score\n",
        "from sklearn.preprocessing import StandardScaler, RobustScaler\n",
        "from sklearn.linear_model import LogisticRegression\n",
        "from sklearn.ensemble import RandomForestRegressor\n",
        "from sklearn.metrics import r2_score as r2\n",
        "from sklearn.model_selection import KFold, GridSearchCV\n",
        "from sklearn.metrics import confusion_matrix,accuracy_score,classification_report\n",
        "from sklearn.metrics import roc_auc_score,roc_curve\n",
        "from sklearn.metrics import f1_score\n",
        "#working with text\n",
        "from sklearn.feature_extraction.text import TfidfVectorizer\n",
        "#normalizing data\n",
        "from sklearn.preprocessing import StandardScaler\n",
        "#pipeline\n",
        "from sklearn.pipeline import Pipeline, FeatureUnion\n",
        "from sklearn.metrics import precision_score,recall_score\n",
        "#imputer\n",
        "from sklearn.impute import SimpleImputer\n",
        "\n",
        "from datetime import datetime\n",
        "\n",
        "import matplotlib\n",
        "import matplotlib.pyplot as plt\n",
        "import seaborn as sns\n",
        "%matplotlib inline"
      ]
    },
    {
      "cell_type": "code",
      "source": [
        "import warnings\n",
        "warnings.filterwarnings('ignore')"
      ],
      "metadata": {
        "id": "xoeEZ5NTfZrp"
      },
      "execution_count": 3,
      "outputs": []
    },
    {
      "cell_type": "markdown",
      "source": [
        "# Загрузка данных"
      ],
      "metadata": {
        "id": "T_kr9XfizPd2"
      }
    },
    {
      "cell_type": "code",
      "source": [
        "TRAIN_DATASET_PATH = '/content/train.csv'\n",
        "TEST_DATASET_PATH = '/content/test.csv'"
      ],
      "metadata": {
        "id": "hoNQ3Unwfh6a"
      },
      "execution_count": 4,
      "outputs": []
    },
    {
      "cell_type": "markdown",
      "source": [
        "**Описание датасета**\n",
        "\n",
        "* **Id** - идентификационный номер квартиры\n",
        "* **DistrictId** - идентификационный номер района\n",
        "* **Rooms** - количество комнат\n",
        "* **Square** - площадь\n",
        "* **LifeSquare** - жилая площадь\n",
        "* **KitchenSquare** - площадь кухни\n",
        "* **Floor** - этаж\n",
        "* **HouseFloor** - количество этажей в доме\n",
        "* **HouseYear** - год постройки дома\n",
        "* **Ecology_1, Ecology_2, Ecology_3** - экологические показатели местности\n",
        "* **Social_1, Social_2, Social_3** - социальные показатели местности\n",
        "* **Healthcare_1, Helthcare_2** - показатели местности, связанные с охраной здоровья\n",
        "* **Shops_1, Shops_2** - показатели, связанные с наличием магазинов, торговых центров\n",
        "* **Price** - цена квартиры\n"
      ],
      "metadata": {
        "id": "z5M7NPJMx28n"
      }
    },
    {
      "cell_type": "code",
      "source": [
        "train_df = pd.read_csv(TRAIN_DATASET_PATH)\n",
        "train_df.tail()"
      ],
      "metadata": {
        "colab": {
          "base_uri": "https://localhost:8080/",
          "height": 270
        },
        "id": "qgLkw9IVw4gA",
        "outputId": "a990b1df-0c7f-45bc-83eb-2326b42bcecb"
      },
      "execution_count": 5,
      "outputs": [
        {
          "output_type": "execute_result",
          "data": {
            "text/plain": [
              "         Id  DistrictId  Rooms     Square  LifeSquare  KitchenSquare  Floor  \\\n",
              "9995   1260          61    2.0  49.090728   33.272626            6.0      3   \n",
              "9996  16265          27    2.0  64.307684   37.038420            9.0     13   \n",
              "9997   2795         178    1.0  29.648057   16.555363            5.0      3   \n",
              "9998  14561          21    1.0  32.330292   22.326870            5.0      3   \n",
              "9999   7202          94    1.0  35.815476   22.301367            6.0      9   \n",
              "\n",
              "      HouseFloor  HouseYear  Ecology_1 Ecology_2 Ecology_3  Social_1  \\\n",
              "9995        12.0       1981   0.300323         B         B        52   \n",
              "9996         0.0       1977   0.072158         B         B         2   \n",
              "9997         5.0       1958   0.460556         B         B        20   \n",
              "9998         9.0       1969   0.194489         B         B        47   \n",
              "9999         9.0       1975   0.127376         B         B        43   \n",
              "\n",
              "      Social_2  Social_3  Healthcare_1  Helthcare_2  Shops_1 Shops_2  \\\n",
              "9995     10311         6           NaN            1        9       B   \n",
              "9996       629         1           NaN            0        0       A   \n",
              "9997      4386        14           NaN            1        5       B   \n",
              "9998      8004         3         125.0            3        5       B   \n",
              "9999      8429         3           NaN            3        9       B   \n",
              "\n",
              "              Price  \n",
              "9995  119367.455796  \n",
              "9996  199715.148807  \n",
              "9997  165953.912580  \n",
              "9998  171842.411855  \n",
              "9999  177685.627486  "
            ],
            "text/html": [
              "\n",
              "  <div id=\"df-3b9e9cef-fd12-4cd1-a2d3-174ed97cb48c\">\n",
              "    <div class=\"colab-df-container\">\n",
              "      <div>\n",
              "<style scoped>\n",
              "    .dataframe tbody tr th:only-of-type {\n",
              "        vertical-align: middle;\n",
              "    }\n",
              "\n",
              "    .dataframe tbody tr th {\n",
              "        vertical-align: top;\n",
              "    }\n",
              "\n",
              "    .dataframe thead th {\n",
              "        text-align: right;\n",
              "    }\n",
              "</style>\n",
              "<table border=\"1\" class=\"dataframe\">\n",
              "  <thead>\n",
              "    <tr style=\"text-align: right;\">\n",
              "      <th></th>\n",
              "      <th>Id</th>\n",
              "      <th>DistrictId</th>\n",
              "      <th>Rooms</th>\n",
              "      <th>Square</th>\n",
              "      <th>LifeSquare</th>\n",
              "      <th>KitchenSquare</th>\n",
              "      <th>Floor</th>\n",
              "      <th>HouseFloor</th>\n",
              "      <th>HouseYear</th>\n",
              "      <th>Ecology_1</th>\n",
              "      <th>Ecology_2</th>\n",
              "      <th>Ecology_3</th>\n",
              "      <th>Social_1</th>\n",
              "      <th>Social_2</th>\n",
              "      <th>Social_3</th>\n",
              "      <th>Healthcare_1</th>\n",
              "      <th>Helthcare_2</th>\n",
              "      <th>Shops_1</th>\n",
              "      <th>Shops_2</th>\n",
              "      <th>Price</th>\n",
              "    </tr>\n",
              "  </thead>\n",
              "  <tbody>\n",
              "    <tr>\n",
              "      <th>9995</th>\n",
              "      <td>1260</td>\n",
              "      <td>61</td>\n",
              "      <td>2.0</td>\n",
              "      <td>49.090728</td>\n",
              "      <td>33.272626</td>\n",
              "      <td>6.0</td>\n",
              "      <td>3</td>\n",
              "      <td>12.0</td>\n",
              "      <td>1981</td>\n",
              "      <td>0.300323</td>\n",
              "      <td>B</td>\n",
              "      <td>B</td>\n",
              "      <td>52</td>\n",
              "      <td>10311</td>\n",
              "      <td>6</td>\n",
              "      <td>NaN</td>\n",
              "      <td>1</td>\n",
              "      <td>9</td>\n",
              "      <td>B</td>\n",
              "      <td>119367.455796</td>\n",
              "    </tr>\n",
              "    <tr>\n",
              "      <th>9996</th>\n",
              "      <td>16265</td>\n",
              "      <td>27</td>\n",
              "      <td>2.0</td>\n",
              "      <td>64.307684</td>\n",
              "      <td>37.038420</td>\n",
              "      <td>9.0</td>\n",
              "      <td>13</td>\n",
              "      <td>0.0</td>\n",
              "      <td>1977</td>\n",
              "      <td>0.072158</td>\n",
              "      <td>B</td>\n",
              "      <td>B</td>\n",
              "      <td>2</td>\n",
              "      <td>629</td>\n",
              "      <td>1</td>\n",
              "      <td>NaN</td>\n",
              "      <td>0</td>\n",
              "      <td>0</td>\n",
              "      <td>A</td>\n",
              "      <td>199715.148807</td>\n",
              "    </tr>\n",
              "    <tr>\n",
              "      <th>9997</th>\n",
              "      <td>2795</td>\n",
              "      <td>178</td>\n",
              "      <td>1.0</td>\n",
              "      <td>29.648057</td>\n",
              "      <td>16.555363</td>\n",
              "      <td>5.0</td>\n",
              "      <td>3</td>\n",
              "      <td>5.0</td>\n",
              "      <td>1958</td>\n",
              "      <td>0.460556</td>\n",
              "      <td>B</td>\n",
              "      <td>B</td>\n",
              "      <td>20</td>\n",
              "      <td>4386</td>\n",
              "      <td>14</td>\n",
              "      <td>NaN</td>\n",
              "      <td>1</td>\n",
              "      <td>5</td>\n",
              "      <td>B</td>\n",
              "      <td>165953.912580</td>\n",
              "    </tr>\n",
              "    <tr>\n",
              "      <th>9998</th>\n",
              "      <td>14561</td>\n",
              "      <td>21</td>\n",
              "      <td>1.0</td>\n",
              "      <td>32.330292</td>\n",
              "      <td>22.326870</td>\n",
              "      <td>5.0</td>\n",
              "      <td>3</td>\n",
              "      <td>9.0</td>\n",
              "      <td>1969</td>\n",
              "      <td>0.194489</td>\n",
              "      <td>B</td>\n",
              "      <td>B</td>\n",
              "      <td>47</td>\n",
              "      <td>8004</td>\n",
              "      <td>3</td>\n",
              "      <td>125.0</td>\n",
              "      <td>3</td>\n",
              "      <td>5</td>\n",
              "      <td>B</td>\n",
              "      <td>171842.411855</td>\n",
              "    </tr>\n",
              "    <tr>\n",
              "      <th>9999</th>\n",
              "      <td>7202</td>\n",
              "      <td>94</td>\n",
              "      <td>1.0</td>\n",
              "      <td>35.815476</td>\n",
              "      <td>22.301367</td>\n",
              "      <td>6.0</td>\n",
              "      <td>9</td>\n",
              "      <td>9.0</td>\n",
              "      <td>1975</td>\n",
              "      <td>0.127376</td>\n",
              "      <td>B</td>\n",
              "      <td>B</td>\n",
              "      <td>43</td>\n",
              "      <td>8429</td>\n",
              "      <td>3</td>\n",
              "      <td>NaN</td>\n",
              "      <td>3</td>\n",
              "      <td>9</td>\n",
              "      <td>B</td>\n",
              "      <td>177685.627486</td>\n",
              "    </tr>\n",
              "  </tbody>\n",
              "</table>\n",
              "</div>\n",
              "      <button class=\"colab-df-convert\" onclick=\"convertToInteractive('df-3b9e9cef-fd12-4cd1-a2d3-174ed97cb48c')\"\n",
              "              title=\"Convert this dataframe to an interactive table.\"\n",
              "              style=\"display:none;\">\n",
              "        \n",
              "  <svg xmlns=\"http://www.w3.org/2000/svg\" height=\"24px\"viewBox=\"0 0 24 24\"\n",
              "       width=\"24px\">\n",
              "    <path d=\"M0 0h24v24H0V0z\" fill=\"none\"/>\n",
              "    <path d=\"M18.56 5.44l.94 2.06.94-2.06 2.06-.94-2.06-.94-.94-2.06-.94 2.06-2.06.94zm-11 1L8.5 8.5l.94-2.06 2.06-.94-2.06-.94L8.5 2.5l-.94 2.06-2.06.94zm10 10l.94 2.06.94-2.06 2.06-.94-2.06-.94-.94-2.06-.94 2.06-2.06.94z\"/><path d=\"M17.41 7.96l-1.37-1.37c-.4-.4-.92-.59-1.43-.59-.52 0-1.04.2-1.43.59L10.3 9.45l-7.72 7.72c-.78.78-.78 2.05 0 2.83L4 21.41c.39.39.9.59 1.41.59.51 0 1.02-.2 1.41-.59l7.78-7.78 2.81-2.81c.8-.78.8-2.07 0-2.86zM5.41 20L4 18.59l7.72-7.72 1.47 1.35L5.41 20z\"/>\n",
              "  </svg>\n",
              "      </button>\n",
              "      \n",
              "  <style>\n",
              "    .colab-df-container {\n",
              "      display:flex;\n",
              "      flex-wrap:wrap;\n",
              "      gap: 12px;\n",
              "    }\n",
              "\n",
              "    .colab-df-convert {\n",
              "      background-color: #E8F0FE;\n",
              "      border: none;\n",
              "      border-radius: 50%;\n",
              "      cursor: pointer;\n",
              "      display: none;\n",
              "      fill: #1967D2;\n",
              "      height: 32px;\n",
              "      padding: 0 0 0 0;\n",
              "      width: 32px;\n",
              "    }\n",
              "\n",
              "    .colab-df-convert:hover {\n",
              "      background-color: #E2EBFA;\n",
              "      box-shadow: 0px 1px 2px rgba(60, 64, 67, 0.3), 0px 1px 3px 1px rgba(60, 64, 67, 0.15);\n",
              "      fill: #174EA6;\n",
              "    }\n",
              "\n",
              "    [theme=dark] .colab-df-convert {\n",
              "      background-color: #3B4455;\n",
              "      fill: #D2E3FC;\n",
              "    }\n",
              "\n",
              "    [theme=dark] .colab-df-convert:hover {\n",
              "      background-color: #434B5C;\n",
              "      box-shadow: 0px 1px 3px 1px rgba(0, 0, 0, 0.15);\n",
              "      filter: drop-shadow(0px 1px 2px rgba(0, 0, 0, 0.3));\n",
              "      fill: #FFFFFF;\n",
              "    }\n",
              "  </style>\n",
              "\n",
              "      <script>\n",
              "        const buttonEl =\n",
              "          document.querySelector('#df-3b9e9cef-fd12-4cd1-a2d3-174ed97cb48c button.colab-df-convert');\n",
              "        buttonEl.style.display =\n",
              "          google.colab.kernel.accessAllowed ? 'block' : 'none';\n",
              "\n",
              "        async function convertToInteractive(key) {\n",
              "          const element = document.querySelector('#df-3b9e9cef-fd12-4cd1-a2d3-174ed97cb48c');\n",
              "          const dataTable =\n",
              "            await google.colab.kernel.invokeFunction('convertToInteractive',\n",
              "                                                     [key], {});\n",
              "          if (!dataTable) return;\n",
              "\n",
              "          const docLinkHtml = 'Like what you see? Visit the ' +\n",
              "            '<a target=\"_blank\" href=https://colab.research.google.com/notebooks/data_table.ipynb>data table notebook</a>'\n",
              "            + ' to learn more about interactive tables.';\n",
              "          element.innerHTML = '';\n",
              "          dataTable['output_type'] = 'display_data';\n",
              "          await google.colab.output.renderOutput(dataTable, element);\n",
              "          const docLink = document.createElement('div');\n",
              "          docLink.innerHTML = docLinkHtml;\n",
              "          element.appendChild(docLink);\n",
              "        }\n",
              "      </script>\n",
              "    </div>\n",
              "  </div>\n",
              "  "
            ]
          },
          "metadata": {},
          "execution_count": 5
        }
      ]
    },
    {
      "cell_type": "markdown",
      "source": [
        "**Задача:** разработать модель, которая будет предсказывать цену на недвижимость."
      ],
      "metadata": {
        "id": "F_RGvbB1zkdM"
      }
    },
    {
      "cell_type": "code",
      "source": [
        "# Данные без целевого показателя.\n",
        "test_df = pd.read_csv(TEST_DATASET_PATH)\n",
        "test_df.tail()"
      ],
      "metadata": {
        "colab": {
          "base_uri": "https://localhost:8080/",
          "height": 270
        },
        "id": "O6d13eSZzzaf",
        "outputId": "1eb5f65e-b310-4c3f-ab5d-50d4016843bf"
      },
      "execution_count": 6,
      "outputs": [
        {
          "output_type": "execute_result",
          "data": {
            "text/plain": [
              "         Id  DistrictId  Rooms     Square  LifeSquare  KitchenSquare  Floor  \\\n",
              "4995  10379          29    2.0  43.177521   30.339945            5.0      6   \n",
              "4996  16138          38    3.0  93.698122   94.521465           10.0     21   \n",
              "4997   3912         101    1.0  33.656723   19.003259            5.0      2   \n",
              "4998   5722          10    1.0  38.635155   20.976257            9.0      8   \n",
              "4999  11004          21    2.0  67.122742   33.944344           13.0      9   \n",
              "\n",
              "      HouseFloor  HouseYear  Ecology_1 Ecology_2 Ecology_3  Social_1  \\\n",
              "4995         5.0       1962   0.069660         B         B        31   \n",
              "4996        27.0       2018   0.060753         B         B        15   \n",
              "4997         5.0       1966   0.038693         B         B        28   \n",
              "4998        14.0       1970   0.089040         B         B        33   \n",
              "4999        17.0       2009   0.194489         B         B        47   \n",
              "\n",
              "      Social_2  Social_3  Healthcare_1  Helthcare_2  Shops_1 Shops_2  \n",
              "4995      6119         4           NaN            1        2       B  \n",
              "4996      2787         2         520.0            0        7       B  \n",
              "4997      6533         1        1015.0            2        5       B  \n",
              "4998      7976         5           NaN            0       11       B  \n",
              "4999      8004         3         125.0            3        5       B  "
            ],
            "text/html": [
              "\n",
              "  <div id=\"df-9dc7eee9-33d5-4f21-9d9f-729895ecad10\">\n",
              "    <div class=\"colab-df-container\">\n",
              "      <div>\n",
              "<style scoped>\n",
              "    .dataframe tbody tr th:only-of-type {\n",
              "        vertical-align: middle;\n",
              "    }\n",
              "\n",
              "    .dataframe tbody tr th {\n",
              "        vertical-align: top;\n",
              "    }\n",
              "\n",
              "    .dataframe thead th {\n",
              "        text-align: right;\n",
              "    }\n",
              "</style>\n",
              "<table border=\"1\" class=\"dataframe\">\n",
              "  <thead>\n",
              "    <tr style=\"text-align: right;\">\n",
              "      <th></th>\n",
              "      <th>Id</th>\n",
              "      <th>DistrictId</th>\n",
              "      <th>Rooms</th>\n",
              "      <th>Square</th>\n",
              "      <th>LifeSquare</th>\n",
              "      <th>KitchenSquare</th>\n",
              "      <th>Floor</th>\n",
              "      <th>HouseFloor</th>\n",
              "      <th>HouseYear</th>\n",
              "      <th>Ecology_1</th>\n",
              "      <th>Ecology_2</th>\n",
              "      <th>Ecology_3</th>\n",
              "      <th>Social_1</th>\n",
              "      <th>Social_2</th>\n",
              "      <th>Social_3</th>\n",
              "      <th>Healthcare_1</th>\n",
              "      <th>Helthcare_2</th>\n",
              "      <th>Shops_1</th>\n",
              "      <th>Shops_2</th>\n",
              "    </tr>\n",
              "  </thead>\n",
              "  <tbody>\n",
              "    <tr>\n",
              "      <th>4995</th>\n",
              "      <td>10379</td>\n",
              "      <td>29</td>\n",
              "      <td>2.0</td>\n",
              "      <td>43.177521</td>\n",
              "      <td>30.339945</td>\n",
              "      <td>5.0</td>\n",
              "      <td>6</td>\n",
              "      <td>5.0</td>\n",
              "      <td>1962</td>\n",
              "      <td>0.069660</td>\n",
              "      <td>B</td>\n",
              "      <td>B</td>\n",
              "      <td>31</td>\n",
              "      <td>6119</td>\n",
              "      <td>4</td>\n",
              "      <td>NaN</td>\n",
              "      <td>1</td>\n",
              "      <td>2</td>\n",
              "      <td>B</td>\n",
              "    </tr>\n",
              "    <tr>\n",
              "      <th>4996</th>\n",
              "      <td>16138</td>\n",
              "      <td>38</td>\n",
              "      <td>3.0</td>\n",
              "      <td>93.698122</td>\n",
              "      <td>94.521465</td>\n",
              "      <td>10.0</td>\n",
              "      <td>21</td>\n",
              "      <td>27.0</td>\n",
              "      <td>2018</td>\n",
              "      <td>0.060753</td>\n",
              "      <td>B</td>\n",
              "      <td>B</td>\n",
              "      <td>15</td>\n",
              "      <td>2787</td>\n",
              "      <td>2</td>\n",
              "      <td>520.0</td>\n",
              "      <td>0</td>\n",
              "      <td>7</td>\n",
              "      <td>B</td>\n",
              "    </tr>\n",
              "    <tr>\n",
              "      <th>4997</th>\n",
              "      <td>3912</td>\n",
              "      <td>101</td>\n",
              "      <td>1.0</td>\n",
              "      <td>33.656723</td>\n",
              "      <td>19.003259</td>\n",
              "      <td>5.0</td>\n",
              "      <td>2</td>\n",
              "      <td>5.0</td>\n",
              "      <td>1966</td>\n",
              "      <td>0.038693</td>\n",
              "      <td>B</td>\n",
              "      <td>B</td>\n",
              "      <td>28</td>\n",
              "      <td>6533</td>\n",
              "      <td>1</td>\n",
              "      <td>1015.0</td>\n",
              "      <td>2</td>\n",
              "      <td>5</td>\n",
              "      <td>B</td>\n",
              "    </tr>\n",
              "    <tr>\n",
              "      <th>4998</th>\n",
              "      <td>5722</td>\n",
              "      <td>10</td>\n",
              "      <td>1.0</td>\n",
              "      <td>38.635155</td>\n",
              "      <td>20.976257</td>\n",
              "      <td>9.0</td>\n",
              "      <td>8</td>\n",
              "      <td>14.0</td>\n",
              "      <td>1970</td>\n",
              "      <td>0.089040</td>\n",
              "      <td>B</td>\n",
              "      <td>B</td>\n",
              "      <td>33</td>\n",
              "      <td>7976</td>\n",
              "      <td>5</td>\n",
              "      <td>NaN</td>\n",
              "      <td>0</td>\n",
              "      <td>11</td>\n",
              "      <td>B</td>\n",
              "    </tr>\n",
              "    <tr>\n",
              "      <th>4999</th>\n",
              "      <td>11004</td>\n",
              "      <td>21</td>\n",
              "      <td>2.0</td>\n",
              "      <td>67.122742</td>\n",
              "      <td>33.944344</td>\n",
              "      <td>13.0</td>\n",
              "      <td>9</td>\n",
              "      <td>17.0</td>\n",
              "      <td>2009</td>\n",
              "      <td>0.194489</td>\n",
              "      <td>B</td>\n",
              "      <td>B</td>\n",
              "      <td>47</td>\n",
              "      <td>8004</td>\n",
              "      <td>3</td>\n",
              "      <td>125.0</td>\n",
              "      <td>3</td>\n",
              "      <td>5</td>\n",
              "      <td>B</td>\n",
              "    </tr>\n",
              "  </tbody>\n",
              "</table>\n",
              "</div>\n",
              "      <button class=\"colab-df-convert\" onclick=\"convertToInteractive('df-9dc7eee9-33d5-4f21-9d9f-729895ecad10')\"\n",
              "              title=\"Convert this dataframe to an interactive table.\"\n",
              "              style=\"display:none;\">\n",
              "        \n",
              "  <svg xmlns=\"http://www.w3.org/2000/svg\" height=\"24px\"viewBox=\"0 0 24 24\"\n",
              "       width=\"24px\">\n",
              "    <path d=\"M0 0h24v24H0V0z\" fill=\"none\"/>\n",
              "    <path d=\"M18.56 5.44l.94 2.06.94-2.06 2.06-.94-2.06-.94-.94-2.06-.94 2.06-2.06.94zm-11 1L8.5 8.5l.94-2.06 2.06-.94-2.06-.94L8.5 2.5l-.94 2.06-2.06.94zm10 10l.94 2.06.94-2.06 2.06-.94-2.06-.94-.94-2.06-.94 2.06-2.06.94z\"/><path d=\"M17.41 7.96l-1.37-1.37c-.4-.4-.92-.59-1.43-.59-.52 0-1.04.2-1.43.59L10.3 9.45l-7.72 7.72c-.78.78-.78 2.05 0 2.83L4 21.41c.39.39.9.59 1.41.59.51 0 1.02-.2 1.41-.59l7.78-7.78 2.81-2.81c.8-.78.8-2.07 0-2.86zM5.41 20L4 18.59l7.72-7.72 1.47 1.35L5.41 20z\"/>\n",
              "  </svg>\n",
              "      </button>\n",
              "      \n",
              "  <style>\n",
              "    .colab-df-container {\n",
              "      display:flex;\n",
              "      flex-wrap:wrap;\n",
              "      gap: 12px;\n",
              "    }\n",
              "\n",
              "    .colab-df-convert {\n",
              "      background-color: #E8F0FE;\n",
              "      border: none;\n",
              "      border-radius: 50%;\n",
              "      cursor: pointer;\n",
              "      display: none;\n",
              "      fill: #1967D2;\n",
              "      height: 32px;\n",
              "      padding: 0 0 0 0;\n",
              "      width: 32px;\n",
              "    }\n",
              "\n",
              "    .colab-df-convert:hover {\n",
              "      background-color: #E2EBFA;\n",
              "      box-shadow: 0px 1px 2px rgba(60, 64, 67, 0.3), 0px 1px 3px 1px rgba(60, 64, 67, 0.15);\n",
              "      fill: #174EA6;\n",
              "    }\n",
              "\n",
              "    [theme=dark] .colab-df-convert {\n",
              "      background-color: #3B4455;\n",
              "      fill: #D2E3FC;\n",
              "    }\n",
              "\n",
              "    [theme=dark] .colab-df-convert:hover {\n",
              "      background-color: #434B5C;\n",
              "      box-shadow: 0px 1px 3px 1px rgba(0, 0, 0, 0.15);\n",
              "      filter: drop-shadow(0px 1px 2px rgba(0, 0, 0, 0.3));\n",
              "      fill: #FFFFFF;\n",
              "    }\n",
              "  </style>\n",
              "\n",
              "      <script>\n",
              "        const buttonEl =\n",
              "          document.querySelector('#df-9dc7eee9-33d5-4f21-9d9f-729895ecad10 button.colab-df-convert');\n",
              "        buttonEl.style.display =\n",
              "          google.colab.kernel.accessAllowed ? 'block' : 'none';\n",
              "\n",
              "        async function convertToInteractive(key) {\n",
              "          const element = document.querySelector('#df-9dc7eee9-33d5-4f21-9d9f-729895ecad10');\n",
              "          const dataTable =\n",
              "            await google.colab.kernel.invokeFunction('convertToInteractive',\n",
              "                                                     [key], {});\n",
              "          if (!dataTable) return;\n",
              "\n",
              "          const docLinkHtml = 'Like what you see? Visit the ' +\n",
              "            '<a target=\"_blank\" href=https://colab.research.google.com/notebooks/data_table.ipynb>data table notebook</a>'\n",
              "            + ' to learn more about interactive tables.';\n",
              "          element.innerHTML = '';\n",
              "          dataTable['output_type'] = 'display_data';\n",
              "          await google.colab.output.renderOutput(dataTable, element);\n",
              "          const docLink = document.createElement('div');\n",
              "          docLink.innerHTML = docLinkHtml;\n",
              "          element.appendChild(docLink);\n",
              "        }\n",
              "      </script>\n",
              "    </div>\n",
              "  </div>\n",
              "  "
            ]
          },
          "metadata": {},
          "execution_count": 6
        }
      ]
    },
    {
      "cell_type": "markdown",
      "source": [
        "# **Разделяем данные на train и test и сохраним на диск**"
      ],
      "metadata": {
        "id": "MrLs09cyFEPV"
      }
    },
    {
      "cell_type": "code",
      "source": [
        "X = train_df.drop(columns='Price')\n",
        "y = train_df['Price']"
      ],
      "metadata": {
        "id": "i-Ua9sMa0IU7"
      },
      "execution_count": 7,
      "outputs": []
    },
    {
      "cell_type": "code",
      "source": [
        "class DataPreprocessing:\n",
        "    \"\"\"Подготовка исходных данных\"\"\"\n",
        "\n",
        "    def __init__(self):\n",
        "        \"\"\"Параметры класса\"\"\"\n",
        "        self.medians = None\n",
        "        self.kitchen_square_quantile = None\n",
        "        \n",
        "    def fit(self, X):\n",
        "        \"\"\"Сохранение статистик\"\"\"       \n",
        "        # Расчет медиан\n",
        "        self.medians = X.median()\n",
        "        self.kitchen_square_quantile = X['KitchenSquare'].quantile(.975)\n",
        "    \n",
        "    def transform(self, X):\n",
        "        \"\"\"Трансформация данных\"\"\"\n",
        "\n",
        "        # Rooms\n",
        "        X['Rooms_outlier'] = 0\n",
        "        X.loc[(X['Rooms'] == 0) | (X['Rooms'] >= 6), 'Rooms_outlier'] = 1\n",
        "        \n",
        "        X.loc[X['Rooms'] == 0, 'Rooms'] = 1\n",
        "        X.loc[X['Rooms'] >= 6, 'Rooms'] = self.medians['Rooms']\n",
        "          # KitchenSquare\n",
        "        condition = (X['KitchenSquare'].isna()) \\\n",
        "                    | (X['KitchenSquare'] > self.kitchen_square_quantile)\n",
        "        \n",
        "        X.loc[condition, 'KitchenSquare'] = self.medians['KitchenSquare']\n",
        "\n",
        "        X.loc[X['KitchenSquare'] < 3, 'KitchenSquare'] = 3\n",
        "        \n",
        "        # HouseFloor, Floor\n",
        "        X['HouseFloor_outlier'] = 0\n",
        "        X.loc[X['HouseFloor'] == 0, 'HouseFloor_outlier'] = 1\n",
        "        X.loc[X['Floor'] > X['HouseFloor'], 'HouseFloor_outlier'] = 1\n",
        "        \n",
        "        X.loc[X['HouseFloor'] == 0, 'HouseFloor'] = self.medians['HouseFloor']\n",
        "\n",
        "        X.loc[X['Floor'] > X['HouseFloor'], 'HouseFloor'] = X['Floor']\n",
        "        \n",
        "        # HouseYear\n",
        "        current_year = datetime.now().year\n",
        "        X['HouseYear_outlier'] = 0\n",
        "        X.loc[X['HouseYear'] > current_year, 'HouseYear_outlier'] = 1\n",
        "        \n",
        "        X.loc[X['HouseYear'] > current_year, 'HouseYear'] = current_year\n",
        "        \n",
        "        # Healthcare_1\n",
        "        if 'Healthcare_1' in X.columns:\n",
        "            X.drop('Healthcare_1', axis=1, inplace=True)\n",
        "            \n",
        "        # LifeSquare\n",
        "        X['LifeSquare_nan'] = X['LifeSquare'].isna() * 1\n",
        "        condition = (X['LifeSquare'].isna()) & \\\n",
        "                      (~X['Square'].isna()) & \\\n",
        "                      (~X['KitchenSquare'].isna())\n",
        "        \n",
        "        X.loc[condition, 'LifeSquare'] = X.loc[condition, 'Square'] - X.loc[condition, 'KitchenSquare'] - 3\n",
        "        \n",
        "        \n",
        "        X.fillna(self.medians, inplace=True)\n",
        "        \n",
        "        return X"
      ],
      "metadata": {
        "id": "h8oFL0RGa9zC"
      },
      "execution_count": 8,
      "outputs": []
    },
    {
      "cell_type": "code",
      "source": [],
      "metadata": {
        "id": "aFKZpzbip1d8"
      },
      "execution_count": 8,
      "outputs": []
    },
    {
      "cell_type": "code",
      "source": [
        "train_df.isna().sum()"
      ],
      "metadata": {
        "colab": {
          "base_uri": "https://localhost:8080/"
        },
        "id": "Mj7qvjevgT13",
        "outputId": "6099fd7e-b835-43c2-e359-90acb1f1ed5b"
      },
      "execution_count": 9,
      "outputs": [
        {
          "output_type": "execute_result",
          "data": {
            "text/plain": [
              "Id                  0\n",
              "DistrictId          0\n",
              "Rooms               0\n",
              "Square              0\n",
              "LifeSquare       2113\n",
              "KitchenSquare       0\n",
              "Floor               0\n",
              "HouseFloor          0\n",
              "HouseYear           0\n",
              "Ecology_1           0\n",
              "Ecology_2           0\n",
              "Ecology_3           0\n",
              "Social_1            0\n",
              "Social_2            0\n",
              "Social_3            0\n",
              "Healthcare_1     4798\n",
              "Helthcare_2         0\n",
              "Shops_1             0\n",
              "Shops_2             0\n",
              "Price               0\n",
              "dtype: int64"
            ]
          },
          "metadata": {},
          "execution_count": 9
        }
      ]
    },
    {
      "cell_type": "code",
      "source": [
        "X_train, X_test, y_train, y_test = train_test_split(X, y, test_size=0.33, random_state=21)\n",
        "\n",
        "# save test\n",
        "\n",
        "X_test.to_csv(\"X_test.csv\", index=None)\n",
        "y_test.to_csv(\"y_test.csv\", index=None)\n",
        "\n",
        "# save train\n",
        "\n",
        "X_train.to_csv(\"X_train.csv\", index=None)\n",
        "y_train.to_csv(\"y_train.csv\", index=None)"
      ],
      "metadata": {
        "id": "FWUggSn2Ffiu"
      },
      "execution_count": 39,
      "outputs": []
    },
    {
      "cell_type": "markdown",
      "source": [
        "# **Выбираем показатели и собираем pipeline**\n",
        "\n"
      ],
      "metadata": {
        "id": "Ook48CdkKgwr"
      }
    },
    {
      "cell_type": "markdown",
      "source": [
        "Выбираем показатели, по которым будем строить модель, заведем новые показатели, которые могут коррелируются с целевым показателем "
      ],
      "metadata": {
        "id": "r_m1YT5-LGVa"
      }
    },
    {
      "cell_type": "code",
      "source": [
        "feature_names = ['Rooms', 'Square', 'KitchenSquare']\n",
        "\n",
        "\n",
        "target_name = 'Price'"
      ],
      "metadata": {
        "id": "DOKx1V9_HQd_"
      },
      "execution_count": 40,
      "outputs": []
    },
    {
      "cell_type": "markdown",
      "source": [
        "Соберем кусок, ответственный за feature engineering"
      ],
      "metadata": {
        "id": "6O9BNTGfmmk8"
      }
    },
    {
      "cell_type": "code",
      "source": [
        "class ColumnSelector(BaseEstimator, TransformerMixin):\n",
        "    \"\"\"\n",
        "    Transformer to select a single column from the data frame to perform additional transformations on\n",
        "    \"\"\"\n",
        "    def __init__(self, key):\n",
        "        self.key = key\n",
        "\n",
        "    def fit(self, X, y=None):\n",
        "        return self\n",
        "\n",
        "    def transform(self, X):\n",
        "        return X[self.key]\n",
        "    \n",
        "class NumberSelector(BaseEstimator, TransformerMixin):\n",
        "    def __init__(self, key):\n",
        "        self.key = key\n",
        "    def fit(self, X, y=None):\n",
        "        return self\n",
        "    def transform(self, X):\n",
        "        return X[[self.key]]"
      ],
      "metadata": {
        "id": "gGr05CBEp59J"
      },
      "execution_count": 43,
      "outputs": []
    },
    {
      "cell_type": "code",
      "source": [
        "#combine\n",
        "Rooms_tr = []\n",
        "Square_tr = []\n",
        "KitchenSquare_tr = []\n",
        "\n",
        "\n",
        "Rooms_t = Pipeline([\n",
        "                 ('selector', NumberSelector(key='Rooms'))\n",
        "            ])\n",
        "Rooms_tr.append(('Rooms', Rooms_t))\n",
        "Square_t = Pipeline([\n",
        "                 ('selector', NumberSelector(key='Square'))\n",
        "            ])\n",
        "Square_tr.append(('Square', Square_t))\n",
        "KitchenSquare_t = Pipeline([\n",
        "                 ('selector', NumberSelector(key='KitchenSquare'))\n",
        "            ])\n",
        "KitchenSquare_tr.append(('KitchenSquare', KitchenSquare_t))\n",
        "feats = FeatureUnion(Rooms_tr + Square_tr + KitchenSquare_tr)\n",
        "feature_processing = Pipeline([('feats', feats)])\n",
        "feature_processing.fit_transform(X_train)"
      ],
      "metadata": {
        "id": "iRxCkekXlfo_",
        "colab": {
          "base_uri": "https://localhost:8080/"
        },
        "outputId": "268947da-ffaa-4829-bfc1-e0230e237707"
      },
      "execution_count": 44,
      "outputs": [
        {
          "output_type": "execute_result",
          "data": {
            "text/plain": [
              "array([[ 1.        , 43.38079757,  1.        ],\n",
              "       [ 3.        , 83.5963648 ,  1.        ],\n",
              "       [ 2.        , 53.61058324,  8.        ],\n",
              "       ...,\n",
              "       [ 2.        , 45.05389835,  5.        ],\n",
              "       [ 1.        , 40.33798661,  8.        ],\n",
              "       [ 3.        , 63.54359087,  6.        ]])"
            ]
          },
          "metadata": {},
          "execution_count": 44
        }
      ]
    },
    {
      "cell_type": "markdown",
      "source": [
        "Добавляем модель в pipeline"
      ],
      "metadata": {
        "id": "CTdInwc521Je"
      }
    },
    {
      "cell_type": "code",
      "source": [
        "%%time\n",
        "classifier = Pipeline([\n",
        "    ('features',feats),\n",
        "    ('classifier', LogisticRegression())\n",
        "])"
      ],
      "metadata": {
        "id": "COHWPWv52y0w",
        "colab": {
          "base_uri": "https://localhost:8080/"
        },
        "outputId": "ef1bc722-2002-4eac-99d4-803113a2963b"
      },
      "execution_count": 49,
      "outputs": [
        {
          "output_type": "stream",
          "name": "stdout",
          "text": [
            "CPU times: user 15 µs, sys: 3 µs, total: 18 µs\n",
            "Wall time: 19.6 µs\n"
          ]
        }
      ]
    },
    {
      "cell_type": "code",
      "source": [
        "classifier.fit(X_train, y_train)"
      ],
      "metadata": {
        "colab": {
          "base_uri": "https://localhost:8080/",
          "height": 311
        },
        "id": "NwFXOiQX_H4K",
        "outputId": "38db439b-3515-47fd-c43c-448f042619fd"
      },
      "execution_count": 50,
      "outputs": [
        {
          "output_type": "error",
          "ename": "ValueError",
          "evalue": "ignored",
          "traceback": [
            "\u001b[0;31m---------------------------------------------------------------------------\u001b[0m",
            "\u001b[0;31mValueError\u001b[0m                                Traceback (most recent call last)",
            "\u001b[0;32m<ipython-input-50-58e3b7912133>\u001b[0m in \u001b[0;36m<cell line: 1>\u001b[0;34m()\u001b[0m\n\u001b[0;32m----> 1\u001b[0;31m \u001b[0mpipeline\u001b[0m\u001b[0;34m.\u001b[0m\u001b[0mfit\u001b[0m\u001b[0;34m(\u001b[0m\u001b[0mX_train\u001b[0m\u001b[0;34m,\u001b[0m \u001b[0my_train\u001b[0m\u001b[0;34m)\u001b[0m\u001b[0;34m\u001b[0m\u001b[0;34m\u001b[0m\u001b[0m\n\u001b[0m",
            "\u001b[0;32m/usr/local/lib/python3.10/dist-packages/sklearn/pipeline.py\u001b[0m in \u001b[0;36mfit\u001b[0;34m(self, X, y, **fit_params)\u001b[0m\n\u001b[1;32m    403\u001b[0m             \u001b[0;32mif\u001b[0m \u001b[0mself\u001b[0m\u001b[0;34m.\u001b[0m\u001b[0m_final_estimator\u001b[0m \u001b[0;34m!=\u001b[0m \u001b[0;34m\"passthrough\"\u001b[0m\u001b[0;34m:\u001b[0m\u001b[0;34m\u001b[0m\u001b[0;34m\u001b[0m\u001b[0m\n\u001b[1;32m    404\u001b[0m                 \u001b[0mfit_params_last_step\u001b[0m \u001b[0;34m=\u001b[0m \u001b[0mfit_params_steps\u001b[0m\u001b[0;34m[\u001b[0m\u001b[0mself\u001b[0m\u001b[0;34m.\u001b[0m\u001b[0msteps\u001b[0m\u001b[0;34m[\u001b[0m\u001b[0;34m-\u001b[0m\u001b[0;36m1\u001b[0m\u001b[0;34m]\u001b[0m\u001b[0;34m[\u001b[0m\u001b[0;36m0\u001b[0m\u001b[0;34m]\u001b[0m\u001b[0;34m]\u001b[0m\u001b[0;34m\u001b[0m\u001b[0;34m\u001b[0m\u001b[0m\n\u001b[0;32m--> 405\u001b[0;31m                 \u001b[0mself\u001b[0m\u001b[0;34m.\u001b[0m\u001b[0m_final_estimator\u001b[0m\u001b[0;34m.\u001b[0m\u001b[0mfit\u001b[0m\u001b[0;34m(\u001b[0m\u001b[0mXt\u001b[0m\u001b[0;34m,\u001b[0m \u001b[0my\u001b[0m\u001b[0;34m,\u001b[0m \u001b[0;34m**\u001b[0m\u001b[0mfit_params_last_step\u001b[0m\u001b[0;34m)\u001b[0m\u001b[0;34m\u001b[0m\u001b[0;34m\u001b[0m\u001b[0m\n\u001b[0m\u001b[1;32m    406\u001b[0m \u001b[0;34m\u001b[0m\u001b[0m\n\u001b[1;32m    407\u001b[0m         \u001b[0;32mreturn\u001b[0m \u001b[0mself\u001b[0m\u001b[0;34m\u001b[0m\u001b[0;34m\u001b[0m\u001b[0m\n",
            "\u001b[0;32m/usr/local/lib/python3.10/dist-packages/sklearn/linear_model/_logistic.py\u001b[0m in \u001b[0;36mfit\u001b[0;34m(self, X, y, sample_weight)\u001b[0m\n\u001b[1;32m   1202\u001b[0m             \u001b[0maccept_large_sparse\u001b[0m\u001b[0;34m=\u001b[0m\u001b[0msolver\u001b[0m \u001b[0;32mnot\u001b[0m \u001b[0;32min\u001b[0m \u001b[0;34m[\u001b[0m\u001b[0;34m\"liblinear\"\u001b[0m\u001b[0;34m,\u001b[0m \u001b[0;34m\"sag\"\u001b[0m\u001b[0;34m,\u001b[0m \u001b[0;34m\"saga\"\u001b[0m\u001b[0;34m]\u001b[0m\u001b[0;34m,\u001b[0m\u001b[0;34m\u001b[0m\u001b[0;34m\u001b[0m\u001b[0m\n\u001b[1;32m   1203\u001b[0m         )\n\u001b[0;32m-> 1204\u001b[0;31m         \u001b[0mcheck_classification_targets\u001b[0m\u001b[0;34m(\u001b[0m\u001b[0my\u001b[0m\u001b[0;34m)\u001b[0m\u001b[0;34m\u001b[0m\u001b[0;34m\u001b[0m\u001b[0m\n\u001b[0m\u001b[1;32m   1205\u001b[0m         \u001b[0mself\u001b[0m\u001b[0;34m.\u001b[0m\u001b[0mclasses_\u001b[0m \u001b[0;34m=\u001b[0m \u001b[0mnp\u001b[0m\u001b[0;34m.\u001b[0m\u001b[0munique\u001b[0m\u001b[0;34m(\u001b[0m\u001b[0my\u001b[0m\u001b[0;34m)\u001b[0m\u001b[0;34m\u001b[0m\u001b[0;34m\u001b[0m\u001b[0m\n\u001b[1;32m   1206\u001b[0m \u001b[0;34m\u001b[0m\u001b[0m\n",
            "\u001b[0;32m/usr/local/lib/python3.10/dist-packages/sklearn/utils/multiclass.py\u001b[0m in \u001b[0;36mcheck_classification_targets\u001b[0;34m(y)\u001b[0m\n\u001b[1;32m    216\u001b[0m         \u001b[0;34m\"multilabel-sequences\"\u001b[0m\u001b[0;34m,\u001b[0m\u001b[0;34m\u001b[0m\u001b[0;34m\u001b[0m\u001b[0m\n\u001b[1;32m    217\u001b[0m     ]:\n\u001b[0;32m--> 218\u001b[0;31m         \u001b[0;32mraise\u001b[0m \u001b[0mValueError\u001b[0m\u001b[0;34m(\u001b[0m\u001b[0;34m\"Unknown label type: %r\"\u001b[0m \u001b[0;34m%\u001b[0m \u001b[0my_type\u001b[0m\u001b[0;34m)\u001b[0m\u001b[0;34m\u001b[0m\u001b[0;34m\u001b[0m\u001b[0m\n\u001b[0m\u001b[1;32m    219\u001b[0m \u001b[0;34m\u001b[0m\u001b[0m\n\u001b[1;32m    220\u001b[0m \u001b[0;34m\u001b[0m\u001b[0m\n",
            "\u001b[0;31mValueError\u001b[0m: Unknown label type: 'continuous'"
          ]
        }
      ]
    },
    {
      "cell_type": "code",
      "source": [
        "# кроссвалидация\n",
        "cv_scores = cross_val_score(classifier, X_train, y_train, cv=6)\n",
        "cv_score = np.mean(cv_scores)\n",
        "cv_score_std = np.std(cv_scores)\n",
        "print ('CV score is {}+-{}'.format(cv_score,cv_score_std))\n",
        "\n",
        "# обучение pipeline на тренировочном датасете\n",
        "classifier.fit(X_train, y_train)\n",
        "y_score = classifier.predict (X_test)[:,1]"
      ],
      "metadata": {
        "colab": {
          "base_uri": "https://localhost:8080/",
          "height": 675
        },
        "id": "67kwYjSUwMMK",
        "outputId": "773569eb-2a26-4045-c4ee-b3d8e1c2ab73"
      },
      "execution_count": 22,
      "outputs": [
        {
          "output_type": "error",
          "ename": "ValueError",
          "evalue": "ignored",
          "traceback": [
            "\u001b[0;31m---------------------------------------------------------------------------\u001b[0m",
            "\u001b[0;31mValueError\u001b[0m                                Traceback (most recent call last)",
            "\u001b[0;32m<ipython-input-22-06ffa9a34f3a>\u001b[0m in \u001b[0;36m<cell line: 2>\u001b[0;34m()\u001b[0m\n\u001b[1;32m      1\u001b[0m \u001b[0;31m# кроссвалидация\u001b[0m\u001b[0;34m\u001b[0m\u001b[0;34m\u001b[0m\u001b[0m\n\u001b[0;32m----> 2\u001b[0;31m \u001b[0mcv_scores\u001b[0m \u001b[0;34m=\u001b[0m \u001b[0mcross_val_score\u001b[0m\u001b[0;34m(\u001b[0m\u001b[0mclassifier\u001b[0m\u001b[0;34m,\u001b[0m \u001b[0mX_train\u001b[0m\u001b[0;34m,\u001b[0m \u001b[0my_train\u001b[0m\u001b[0;34m,\u001b[0m\u001b[0mcv\u001b[0m\u001b[0;34m=\u001b[0m\u001b[0;36m6\u001b[0m\u001b[0;34m)\u001b[0m\u001b[0;34m\u001b[0m\u001b[0;34m\u001b[0m\u001b[0m\n\u001b[0m\u001b[1;32m      3\u001b[0m \u001b[0mcv_score\u001b[0m \u001b[0;34m=\u001b[0m \u001b[0mnp\u001b[0m\u001b[0;34m.\u001b[0m\u001b[0mmean\u001b[0m\u001b[0;34m(\u001b[0m\u001b[0mcv_scores\u001b[0m\u001b[0;34m)\u001b[0m\u001b[0;34m\u001b[0m\u001b[0;34m\u001b[0m\u001b[0m\n\u001b[1;32m      4\u001b[0m \u001b[0mcv_score_std\u001b[0m \u001b[0;34m=\u001b[0m \u001b[0mnp\u001b[0m\u001b[0;34m.\u001b[0m\u001b[0mstd\u001b[0m\u001b[0;34m(\u001b[0m\u001b[0mcv_scores\u001b[0m\u001b[0;34m)\u001b[0m\u001b[0;34m\u001b[0m\u001b[0;34m\u001b[0m\u001b[0m\n\u001b[1;32m      5\u001b[0m \u001b[0mprint\u001b[0m \u001b[0;34m(\u001b[0m\u001b[0;34m'CV score is {}+-{}'\u001b[0m\u001b[0;34m.\u001b[0m\u001b[0mformat\u001b[0m\u001b[0;34m(\u001b[0m\u001b[0mcv_score\u001b[0m\u001b[0;34m,\u001b[0m\u001b[0mcv_score_std\u001b[0m\u001b[0;34m)\u001b[0m\u001b[0;34m)\u001b[0m\u001b[0;34m\u001b[0m\u001b[0;34m\u001b[0m\u001b[0m\n",
            "\u001b[0;32m/usr/local/lib/python3.10/dist-packages/sklearn/model_selection/_validation.py\u001b[0m in \u001b[0;36mcross_val_score\u001b[0;34m(estimator, X, y, groups, scoring, cv, n_jobs, verbose, fit_params, pre_dispatch, error_score)\u001b[0m\n\u001b[1;32m    513\u001b[0m     \u001b[0mscorer\u001b[0m \u001b[0;34m=\u001b[0m \u001b[0mcheck_scoring\u001b[0m\u001b[0;34m(\u001b[0m\u001b[0mestimator\u001b[0m\u001b[0;34m,\u001b[0m \u001b[0mscoring\u001b[0m\u001b[0;34m=\u001b[0m\u001b[0mscoring\u001b[0m\u001b[0;34m)\u001b[0m\u001b[0;34m\u001b[0m\u001b[0;34m\u001b[0m\u001b[0m\n\u001b[1;32m    514\u001b[0m \u001b[0;34m\u001b[0m\u001b[0m\n\u001b[0;32m--> 515\u001b[0;31m     cv_results = cross_validate(\n\u001b[0m\u001b[1;32m    516\u001b[0m         \u001b[0mestimator\u001b[0m\u001b[0;34m=\u001b[0m\u001b[0mestimator\u001b[0m\u001b[0;34m,\u001b[0m\u001b[0;34m\u001b[0m\u001b[0;34m\u001b[0m\u001b[0m\n\u001b[1;32m    517\u001b[0m         \u001b[0mX\u001b[0m\u001b[0;34m=\u001b[0m\u001b[0mX\u001b[0m\u001b[0;34m,\u001b[0m\u001b[0;34m\u001b[0m\u001b[0;34m\u001b[0m\u001b[0m\n",
            "\u001b[0;32m/usr/local/lib/python3.10/dist-packages/sklearn/model_selection/_validation.py\u001b[0m in \u001b[0;36mcross_validate\u001b[0;34m(estimator, X, y, groups, scoring, cv, n_jobs, verbose, fit_params, pre_dispatch, return_train_score, return_estimator, error_score)\u001b[0m\n\u001b[1;32m    283\u001b[0m     )\n\u001b[1;32m    284\u001b[0m \u001b[0;34m\u001b[0m\u001b[0m\n\u001b[0;32m--> 285\u001b[0;31m     \u001b[0m_warn_or_raise_about_fit_failures\u001b[0m\u001b[0;34m(\u001b[0m\u001b[0mresults\u001b[0m\u001b[0;34m,\u001b[0m \u001b[0merror_score\u001b[0m\u001b[0;34m)\u001b[0m\u001b[0;34m\u001b[0m\u001b[0;34m\u001b[0m\u001b[0m\n\u001b[0m\u001b[1;32m    286\u001b[0m \u001b[0;34m\u001b[0m\u001b[0m\n\u001b[1;32m    287\u001b[0m     \u001b[0;31m# For callabe scoring, the return type is only know after calling. If the\u001b[0m\u001b[0;34m\u001b[0m\u001b[0;34m\u001b[0m\u001b[0m\n",
            "\u001b[0;32m/usr/local/lib/python3.10/dist-packages/sklearn/model_selection/_validation.py\u001b[0m in \u001b[0;36m_warn_or_raise_about_fit_failures\u001b[0;34m(results, error_score)\u001b[0m\n\u001b[1;32m    365\u001b[0m                 \u001b[0;34mf\"Below are more details about the failures:\\n{fit_errors_summary}\"\u001b[0m\u001b[0;34m\u001b[0m\u001b[0;34m\u001b[0m\u001b[0m\n\u001b[1;32m    366\u001b[0m             )\n\u001b[0;32m--> 367\u001b[0;31m             \u001b[0;32mraise\u001b[0m \u001b[0mValueError\u001b[0m\u001b[0;34m(\u001b[0m\u001b[0mall_fits_failed_message\u001b[0m\u001b[0;34m)\u001b[0m\u001b[0;34m\u001b[0m\u001b[0;34m\u001b[0m\u001b[0m\n\u001b[0m\u001b[1;32m    368\u001b[0m \u001b[0;34m\u001b[0m\u001b[0m\n\u001b[1;32m    369\u001b[0m         \u001b[0;32melse\u001b[0m\u001b[0;34m:\u001b[0m\u001b[0;34m\u001b[0m\u001b[0;34m\u001b[0m\u001b[0m\n",
            "\u001b[0;31mValueError\u001b[0m: \nAll the 6 fits failed.\nIt is very likely that your model is misconfigured.\nYou can try to debug the error by setting error_score='raise'.\n\nBelow are more details about the failures:\n--------------------------------------------------------------------------------\n6 fits failed with the following error:\nTraceback (most recent call last):\n  File \"/usr/local/lib/python3.10/dist-packages/sklearn/model_selection/_validation.py\", line 686, in _fit_and_score\n    estimator.fit(X_train, y_train, **fit_params)\n  File \"/usr/local/lib/python3.10/dist-packages/sklearn/pipeline.py\", line 405, in fit\n    self._final_estimator.fit(Xt, y, **fit_params_last_step)\n  File \"/usr/local/lib/python3.10/dist-packages/sklearn/linear_model/_logistic.py\", line 1204, in fit\n    check_classification_targets(y)\n  File \"/usr/local/lib/python3.10/dist-packages/sklearn/utils/multiclass.py\", line 218, in check_classification_targets\n    raise ValueError(\"Unknown label type: %r\" % y_type)\nValueError: Unknown label type: 'continuous'\n"
          ]
        }
      ]
    },
    {
      "cell_type": "code",
      "source": [
        "pipeline.steps"
      ],
      "metadata": {
        "colab": {
          "base_uri": "https://localhost:8080/"
        },
        "id": "YqFED_ZiAS4V",
        "outputId": "c9ff28b3-d2cf-4d71-f111-805c29c01245"
      },
      "execution_count": 51,
      "outputs": [
        {
          "output_type": "execute_result",
          "data": {
            "text/plain": [
              "[('features',\n",
              "  FeatureUnion(transformer_list=[('Rooms',\n",
              "                                  Pipeline(steps=[('selector',\n",
              "                                                   NumberSelector(key='Rooms'))])),\n",
              "                                 ('Square',\n",
              "                                  Pipeline(steps=[('selector',\n",
              "                                                   NumberSelector(key='Square')),\n",
              "                                                  ('standard',\n",
              "                                                   StandardScaler())])),\n",
              "                                 ('KitchenSquare',\n",
              "                                  Pipeline(steps=[('selector',\n",
              "                                                   NumberSelector(key='KitchenSquare')),\n",
              "                                                  ('standard',\n",
              "                                                   StandardScaler())]))])),\n",
              " ('classifier', LogisticRegression(C=10, random_state=42))]"
            ]
          },
          "metadata": {},
          "execution_count": 51
        }
      ]
    },
    {
      "cell_type": "code",
      "source": [
        "## Сохраним модель (пайплайн)\n",
        "\n",
        "with open(\"logreg_pipeline.dill\", \"wb\") as f:\n",
        "    dill.dump(pipeline, f)"
      ],
      "metadata": {
        "id": "-A7GNLw4AWbu"
      },
      "execution_count": 52,
      "outputs": []
    },
    {
      "cell_type": "markdown",
      "source": [
        "# **Flask**"
      ],
      "metadata": {
        "id": "RJJ8EqHoCHip"
      }
    },
    {
      "cell_type": "code",
      "source": [
        "!pip install flask-ngrok"
      ],
      "metadata": {
        "colab": {
          "base_uri": "https://localhost:8080/"
        },
        "id": "zuQj7zhnCP8T",
        "outputId": "4a389505-5b08-43c3-cc46-a47e7875496b"
      },
      "execution_count": 53,
      "outputs": [
        {
          "output_type": "stream",
          "name": "stdout",
          "text": [
            "Looking in indexes: https://pypi.org/simple, https://us-python.pkg.dev/colab-wheels/public/simple/\n",
            "Collecting flask-ngrok\n",
            "  Downloading flask_ngrok-0.0.25-py3-none-any.whl (3.1 kB)\n",
            "Requirement already satisfied: Flask>=0.8 in /usr/local/lib/python3.10/dist-packages (from flask-ngrok) (2.2.4)\n",
            "Requirement already satisfied: requests in /usr/local/lib/python3.10/dist-packages (from flask-ngrok) (2.27.1)\n",
            "Requirement already satisfied: Werkzeug>=2.2.2 in /usr/local/lib/python3.10/dist-packages (from Flask>=0.8->flask-ngrok) (2.3.0)\n",
            "Requirement already satisfied: Jinja2>=3.0 in /usr/local/lib/python3.10/dist-packages (from Flask>=0.8->flask-ngrok) (3.1.2)\n",
            "Requirement already satisfied: itsdangerous>=2.0 in /usr/local/lib/python3.10/dist-packages (from Flask>=0.8->flask-ngrok) (2.1.2)\n",
            "Requirement already satisfied: click>=8.0 in /usr/local/lib/python3.10/dist-packages (from Flask>=0.8->flask-ngrok) (8.1.3)\n",
            "Requirement already satisfied: urllib3<1.27,>=1.21.1 in /usr/local/lib/python3.10/dist-packages (from requests->flask-ngrok) (1.26.15)\n",
            "Requirement already satisfied: certifi>=2017.4.17 in /usr/local/lib/python3.10/dist-packages (from requests->flask-ngrok) (2022.12.7)\n",
            "Requirement already satisfied: charset-normalizer~=2.0.0 in /usr/local/lib/python3.10/dist-packages (from requests->flask-ngrok) (2.0.12)\n",
            "Requirement already satisfied: idna<4,>=2.5 in /usr/local/lib/python3.10/dist-packages (from requests->flask-ngrok) (3.4)\n",
            "Requirement already satisfied: MarkupSafe>=2.0 in /usr/local/lib/python3.10/dist-packages (from Jinja2>=3.0->Flask>=0.8->flask-ngrok) (2.1.2)\n",
            "Installing collected packages: flask-ngrok\n",
            "Successfully installed flask-ngrok-0.0.25\n"
          ]
        }
      ]
    },
    {
      "cell_type": "code",
      "source": [
        "from flask_ngrok import run_with_ngrok\n",
        "from flask import Flask, request, jsonify"
      ],
      "metadata": {
        "id": "QJbKzgE4Cbsb"
      },
      "execution_count": 54,
      "outputs": []
    },
    {
      "cell_type": "code",
      "source": [
        "cat /root/.ngrok2/ngrok.yml"
      ],
      "metadata": {
        "colab": {
          "base_uri": "https://localhost:8080/"
        },
        "id": "FF-LRWIRC60c",
        "outputId": "024c0de4-7c88-4605-a5da-076ef390c2ce"
      },
      "execution_count": 55,
      "outputs": [
        {
          "output_type": "stream",
          "name": "stdout",
          "text": [
            "cat: /root/.ngrok2/ngrok.yml: No such file or directory\n"
          ]
        }
      ]
    },
    {
      "cell_type": "code",
      "source": [
        "class ClientDataForm(FlaskForm):\n",
        "   Rooms = StringField('Rooms', validators=[DataRequired()])\n",
        "   Square = StringField('Square', validators=[DataRequired()])\n",
        "   KitchenSquare = StringField('KitchenSquare', validators=[DataRequired()])"
      ],
      "metadata": {
        "id": "n2tZJklUEN02"
      },
      "execution_count": null,
      "outputs": []
    },
    {
      "cell_type": "code",
      "source": [
        "app = Flask(__name__)\n",
        "app.config.update(\n",
        "    CSRF_ENABLED=True,\n",
        "    SECRET_KEY='you-will-never-guess',\n",
        ")"
      ],
      "metadata": {
        "id": "h99BDpMGEtfG"
      },
      "execution_count": null,
      "outputs": []
    },
    {
      "cell_type": "code",
      "source": [
        "def get_prediction(Rooms, Square, KitchenSquare):\n",
        "    body = {'Rooms': Rooms,\n",
        "            'Square': Square,\n",
        "            'KitchenSquare': KitchenSquare}\n",
        "\n",
        "    myurl = \"http://0.0.0.0:8180/predict\"\n",
        "    req = urllib.request.Request(myurl)\n",
        "    req.add_header('Content-Type', 'application/json; charset=utf-8')\n",
        "    jsondata = json.dumps(body)\n",
        "    jsondataasbytes = jsondata.encode('utf-8')   # needs to be bytes\n",
        "    req.add_header('Content-Length', len(jsondataasbytes))\n",
        "    #print (jsondataasbytes)\n",
        "    response = urllib.request.urlopen(req, jsondataasbytes)\n",
        "    return json.loads(response.read())['predictions']"
      ],
      "metadata": {
        "id": "5J-dmJsaEyYF"
      },
      "execution_count": null,
      "outputs": []
    },
    {
      "cell_type": "code",
      "source": [
        "@app.route(\"/\")\n",
        "def index():\n",
        "    return render_template('index.html')"
      ],
      "metadata": {
        "id": "qciI--_aFlWq"
      },
      "execution_count": null,
      "outputs": []
    },
    {
      "cell_type": "code",
      "source": [
        "@app.route('/predicted/<response>')\n",
        "def predicted(response):\n",
        "    response = json.loads(response)\n",
        "    print(response)\n",
        "    return render_template('predicted.html', response=response)"
      ],
      "metadata": {
        "id": "64hP3mJyFmXP"
      },
      "execution_count": null,
      "outputs": []
    },
    {
      "cell_type": "code",
      "source": [
        "@app.route('/predict_form', methods=['GET', 'POST'])\n",
        "def predict_form():\n",
        "    form = ClientDataForm()\n",
        "    data = dict()\n",
        "    if request.method == 'POST':\n",
        "        data['Rooms'] = request.form.get('Rooms')\n",
        "        data['Square'] = request.form.get('Square')\n",
        "        data['KitchenSquare'] = request.form.get('KitchenSquare')\n",
        "\n",
        "\n",
        "        try:\n",
        "            response = str(get_prediction(data['Rooms'],\n",
        "                                      data['Square'],\n",
        "                                      data['KitchenSquare'])\n",
        "\n",
        "            print(response)\n",
        "        except ConnectionError:\n",
        "            response = json.dumps({\"error\": \"ConnectionError\"})\n",
        "        return redirect(url_for('predicted', response=response))\n",
        "    return render_template('form.html', form=form)']))\n",
        "            print(response)\n",
        "        except ConnectionError:\n",
        "            response = json.dumps({\"error\": \"ConnectionError\"})\n",
        "        return redirect(url_for('predicted', response=response))\n",
        "    return render_template('form.html', form=form)"
      ],
      "metadata": {
        "id": "18sq2m9PFqex"
      },
      "execution_count": null,
      "outputs": []
    },
    {
      "cell_type": "code",
      "source": [
        "if __name__ == '__main__':\n",
        "    app.run(host='0.0.0.0', port=8181, debug=True)"
      ],
      "metadata": {
        "id": "no17TOW8GbPb"
      },
      "execution_count": null,
      "outputs": []
    }
  ]
}